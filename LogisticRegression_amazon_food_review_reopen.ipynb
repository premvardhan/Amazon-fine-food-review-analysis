{
 "cells": [
  {
   "cell_type": "code",
   "execution_count": 1,
   "metadata": {},
   "outputs": [],
   "source": [
    "# imported necessary libraries\n",
    "import numpy as np\n",
    "import pandas as pd\n",
    "import matplotlib.pyplot as plt\n",
    "import warnings\n",
    "from sklearn.model_selection import GridSearchCV, RandomizedSearchCV\n",
    "from sklearn.linear_model import LogisticRegression\n",
    "from sklearn.metrics import accuracy_score\n",
    "from sklearn.model_selection import train_test_split, cross_val_score\n",
    "#from sklearn.cross_validation import cross_val_score\n",
    "from collections import Counter\n",
    "from sklearn.model_selection import KFold\n",
    "from sklearn.metrics import accuracy_score\n",
    "from sklearn import model_selection\n",
    "#from sklearn import cross_validation\n",
    "from scipy.stats import uniform"
   ]
  },
  {
   "cell_type": "code",
   "execution_count": 2,
   "metadata": {},
   "outputs": [],
   "source": [
    "warnings.filterwarnings(\"ignore\")"
   ]
  },
  {
   "cell_type": "code",
   "execution_count": 3,
   "metadata": {},
   "outputs": [],
   "source": [
    "import sqlite3\n",
    "con = sqlite3.connect(\"final.sqlite\")"
   ]
  },
  {
   "cell_type": "code",
   "execution_count": 4,
   "metadata": {},
   "outputs": [],
   "source": [
    "cleaned_data = pd.read_sql_query(\"select * from Reviews\", con)"
   ]
  },
  {
   "cell_type": "code",
   "execution_count": 5,
   "metadata": {},
   "outputs": [
    {
     "data": {
      "text/plain": [
       "(364171, 12)"
      ]
     },
     "execution_count": 5,
     "metadata": {},
     "output_type": "execute_result"
    }
   ],
   "source": [
    "cleaned_data.shape"
   ]
  },
  {
   "cell_type": "code",
   "execution_count": 7,
   "metadata": {},
   "outputs": [
    {
     "data": {
      "text/html": [
       "<div>\n",
       "<style>\n",
       "    .dataframe thead tr:only-child th {\n",
       "        text-align: right;\n",
       "    }\n",
       "\n",
       "    .dataframe thead th {\n",
       "        text-align: left;\n",
       "    }\n",
       "\n",
       "    .dataframe tbody tr th {\n",
       "        vertical-align: top;\n",
       "    }\n",
       "</style>\n",
       "<table border=\"1\" class=\"dataframe\">\n",
       "  <thead>\n",
       "    <tr style=\"text-align: right;\">\n",
       "      <th></th>\n",
       "      <th>index</th>\n",
       "      <th>Id</th>\n",
       "      <th>ProductId</th>\n",
       "      <th>UserId</th>\n",
       "      <th>ProfileName</th>\n",
       "      <th>HelpfulnessNumerator</th>\n",
       "      <th>HelpfulnessDenominator</th>\n",
       "      <th>Score</th>\n",
       "      <th>Time</th>\n",
       "      <th>Summary</th>\n",
       "      <th>Text</th>\n",
       "      <th>CleanedText</th>\n",
       "    </tr>\n",
       "  </thead>\n",
       "  <tbody>\n",
       "    <tr>\n",
       "      <th>0</th>\n",
       "      <td>138706</td>\n",
       "      <td>150524</td>\n",
       "      <td>0006641040</td>\n",
       "      <td>ACITT7DI6IDDL</td>\n",
       "      <td>shari zychinski</td>\n",
       "      <td>0</td>\n",
       "      <td>0</td>\n",
       "      <td>positive</td>\n",
       "      <td>1999-10-08</td>\n",
       "      <td>EVERY book is educational</td>\n",
       "      <td>this witty little book makes my son laugh at l...</td>\n",
       "      <td>b'witti littl book make son laugh loud recit c...</td>\n",
       "    </tr>\n",
       "    <tr>\n",
       "      <th>30</th>\n",
       "      <td>138683</td>\n",
       "      <td>150501</td>\n",
       "      <td>0006641040</td>\n",
       "      <td>AJ46FKXOVC7NR</td>\n",
       "      <td>Nicholas A Mesiano</td>\n",
       "      <td>2</td>\n",
       "      <td>2</td>\n",
       "      <td>positive</td>\n",
       "      <td>1999-10-25</td>\n",
       "      <td>This whole series is great way to spend time w...</td>\n",
       "      <td>I can remember seeing the show when it aired o...</td>\n",
       "      <td>b'rememb see show air televis year ago child s...</td>\n",
       "    </tr>\n",
       "    <tr>\n",
       "      <th>424</th>\n",
       "      <td>417839</td>\n",
       "      <td>451856</td>\n",
       "      <td>B00004CXX9</td>\n",
       "      <td>AIUWLEQ1ADEG5</td>\n",
       "      <td>Elizabeth Medina</td>\n",
       "      <td>0</td>\n",
       "      <td>0</td>\n",
       "      <td>positive</td>\n",
       "      <td>1999-12-02</td>\n",
       "      <td>Entertainingl Funny!</td>\n",
       "      <td>Beetlejuice is a well written movie ..... ever...</td>\n",
       "      <td>b'beetlejuic well written movi everyth excel a...</td>\n",
       "    </tr>\n",
       "    <tr>\n",
       "      <th>330</th>\n",
       "      <td>346055</td>\n",
       "      <td>374359</td>\n",
       "      <td>B00004CI84</td>\n",
       "      <td>A344SMIA5JECGM</td>\n",
       "      <td>Vincent P. Ross</td>\n",
       "      <td>1</td>\n",
       "      <td>2</td>\n",
       "      <td>positive</td>\n",
       "      <td>1999-12-06</td>\n",
       "      <td>A modern day fairy tale</td>\n",
       "      <td>A twist of rumplestiskin captured on film, sta...</td>\n",
       "      <td>b'twist rumplestiskin captur film star michael...</td>\n",
       "    </tr>\n",
       "    <tr>\n",
       "      <th>423</th>\n",
       "      <td>417838</td>\n",
       "      <td>451855</td>\n",
       "      <td>B00004CXX9</td>\n",
       "      <td>AJH6LUC1UT1ON</td>\n",
       "      <td>The Phantom of the Opera</td>\n",
       "      <td>0</td>\n",
       "      <td>0</td>\n",
       "      <td>positive</td>\n",
       "      <td>2000-01-03</td>\n",
       "      <td>FANTASTIC!</td>\n",
       "      <td>Beetlejuice is an excellent and funny movie. K...</td>\n",
       "      <td>b'beetlejuic excel funni movi keaton hilari wa...</td>\n",
       "    </tr>\n",
       "  </tbody>\n",
       "</table>\n",
       "</div>"
      ],
      "text/plain": [
       "      index      Id   ProductId          UserId               ProfileName  \\\n",
       "0    138706  150524  0006641040   ACITT7DI6IDDL           shari zychinski   \n",
       "30   138683  150501  0006641040   AJ46FKXOVC7NR        Nicholas A Mesiano   \n",
       "424  417839  451856  B00004CXX9   AIUWLEQ1ADEG5          Elizabeth Medina   \n",
       "330  346055  374359  B00004CI84  A344SMIA5JECGM           Vincent P. Ross   \n",
       "423  417838  451855  B00004CXX9   AJH6LUC1UT1ON  The Phantom of the Opera   \n",
       "\n",
       "     HelpfulnessNumerator  HelpfulnessDenominator     Score       Time  \\\n",
       "0                       0                       0  positive 1999-10-08   \n",
       "30                      2                       2  positive 1999-10-25   \n",
       "424                     0                       0  positive 1999-12-02   \n",
       "330                     1                       2  positive 1999-12-06   \n",
       "423                     0                       0  positive 2000-01-03   \n",
       "\n",
       "                                               Summary  \\\n",
       "0                            EVERY book is educational   \n",
       "30   This whole series is great way to spend time w...   \n",
       "424                               Entertainingl Funny!   \n",
       "330                            A modern day fairy tale   \n",
       "423                                         FANTASTIC!   \n",
       "\n",
       "                                                  Text  \\\n",
       "0    this witty little book makes my son laugh at l...   \n",
       "30   I can remember seeing the show when it aired o...   \n",
       "424  Beetlejuice is a well written movie ..... ever...   \n",
       "330  A twist of rumplestiskin captured on film, sta...   \n",
       "423  Beetlejuice is an excellent and funny movie. K...   \n",
       "\n",
       "                                           CleanedText  \n",
       "0    b'witti littl book make son laugh loud recit c...  \n",
       "30   b'rememb see show air televis year ago child s...  \n",
       "424  b'beetlejuic well written movi everyth excel a...  \n",
       "330  b'twist rumplestiskin captur film star michael...  \n",
       "423  b'beetlejuic excel funni movi keaton hilari wa...  "
      ]
     },
     "execution_count": 7,
     "metadata": {},
     "output_type": "execute_result"
    }
   ],
   "source": [
    "# Sort data based on time\n",
    "cleaned_data[\"Time\"] = pd.to_datetime(cleaned_data[\"Time\"], unit = \"s\")\n",
    "cleaned_data = cleaned_data.sort_values(by = \"Time\")\n",
    "cleaned_data.head()"
   ]
  },
  {
   "cell_type": "code",
   "execution_count": 8,
   "metadata": {},
   "outputs": [
    {
     "data": {
      "text/plain": [
       "(364171, 12)"
      ]
     },
     "execution_count": 8,
     "metadata": {},
     "output_type": "execute_result"
    }
   ],
   "source": [
    "cleaned_data.shape"
   ]
  },
  {
   "cell_type": "code",
   "execution_count": 9,
   "metadata": {},
   "outputs": [
    {
     "data": {
      "text/plain": [
       "positive    307061\n",
       "negative     57110\n",
       "Name: Score, dtype: int64"
      ]
     },
     "execution_count": 9,
     "metadata": {},
     "output_type": "execute_result"
    }
   ],
   "source": [
    "cleaned_data[\"Score\"].value_counts()"
   ]
  },
  {
   "cell_type": "code",
   "execution_count": 10,
   "metadata": {},
   "outputs": [],
   "source": [
    "final_100k = cleaned_data.iloc[:100000,:]"
   ]
  },
  {
   "cell_type": "code",
   "execution_count": 11,
   "metadata": {},
   "outputs": [
    {
     "data": {
      "text/plain": [
       "(100000, 12)"
      ]
     },
     "execution_count": 11,
     "metadata": {},
     "output_type": "execute_result"
    }
   ],
   "source": [
    "final_100k.shape"
   ]
  },
  {
   "cell_type": "code",
   "execution_count": 14,
   "metadata": {},
   "outputs": [],
   "source": [
    "# converting scores in 0 and 1\n",
    "final_100k[\"Score\"] = final_100k[\"Score\"].map(lambda x: 1 if x == \"positive\" else 0)\n",
    "#encoded_labels = df['label'].map(lambda x: 1 if x == 'spam' else 0).values"
   ]
  },
  {
   "cell_type": "markdown",
   "metadata": {},
   "source": [
    "# Bag of Word"
   ]
  },
  {
   "cell_type": "code",
   "execution_count": 16,
   "metadata": {},
   "outputs": [],
   "source": [
    "# Grid search\n",
    "def lr_grid_plot(X_train, y_train):\n",
    "    tuned_parameters_grid = [{'penalty': ['l1','l2'], 'C': [10**-4, 10**-2, 10**0, 10**2, 10**4]}]\n",
    "    cv = TimeSeriesSplit(n_splits = 3)\n",
    "    model_lr_grid = GridSearchCV(LogisticRegression(), param_grid = tuned_parameters_grid, cv = cv)\n",
    "    model_lr_grid.fit(X_train, y_train)\n",
    "    print(\"\\n**********GridSearchCV**********\\n\")\n",
    "    print(\"\\nOptimal C:\", model_lr_grid.best_estimator_.C)\n",
    "    print('\\nBest penalty:', model_lr_grid.best_estimator_.get_params()['penalty'])\n",
    "    score = model_lr_grid.cv_results_\n",
    "    plot_df = pd.DataFrame(score)\n",
    "    plt.plot(plot_df[\"param_C\"], 1- plot_df[\"mean_test_score\"], \"-o\")\n",
    "    plt.title(\"CV Error vs C\")\n",
    "    plt.xlabel(\"C\")\n",
    "    plt.ylabel(\"Cross-validation Error\")\n",
    "    plt.show()\n",
    "    return model_lr_grid.best_estimator_.C"
   ]
  },
  {
   "cell_type": "code",
   "execution_count": 17,
   "metadata": {},
   "outputs": [],
   "source": [
    "# Random search\n",
    "def lr_random_plot(X_train, y_train):\n",
    "    tuned_parameters_random = {'penalty': ['l1','l2'], 'C': uniform(loc = 0, scale = 4)}\n",
    "    cv = TimeSeriesSplit(n_splits = 3)\n",
    "    model_lr_random = RandomizedSearchCV(LogisticRegression(), tuned_parameters_random, cv = cv, n_iter = 10)\n",
    "    model_lr_random.fit(X_train, y_train)\n",
    "    print(\"\\n\\n**********RandomizedSearchCV**********\\n\")\n",
    "    print(\"\\nOptimal C:\", model_lr_random.best_estimator_.C)\n",
    "    print('\\nBest penalty:', model_lr_random.best_estimator_.get_params()['penalty'])\n",
    "    score = model_lr_random.cv_results_\n",
    "    plot_df = pd.DataFrame(score)\n",
    "    plt.plot(plot_df[\"param_C\"], 1 - plot_df[\"mean_test_score\"], \"-o\")\n",
    "    plt.title(\"CV Error vs C\")\n",
    "    plt.xlabel(\"C\")\n",
    "    plt.ylabel(\"Cross-validation Error\")\n",
    "    plt.show()\n",
    "    return model_lr_random.best_estimator_.C"
   ]
  },
  {
   "cell_type": "code",
   "execution_count": 18,
   "metadata": {},
   "outputs": [],
   "source": [
    "def plot_precision_recall_curve(recall, precision):\n",
    "    plt.xlabel(\"Recall\")\n",
    "    plt.ylabel(\"Precision\")\n",
    "    plt.title(\"Precision_recall_curve\")\n",
    "    plt.plot(recall, precision, \"-o\")\n",
    "    plt.show()"
   ]
  },
  {
   "cell_type": "code",
   "execution_count": 19,
   "metadata": {},
   "outputs": [
    {
     "name": "stdout",
     "output_type": "stream",
     "text": [
      "shape of X: (100000,)\n"
     ]
    }
   ],
   "source": [
    "# 100k data which will use to train model after vectorization\n",
    "X = final_100k[\"CleanedText\"]\n",
    "print(\"shape of X:\", X.shape)"
   ]
  },
  {
   "cell_type": "code",
   "execution_count": 20,
   "metadata": {},
   "outputs": [
    {
     "name": "stdout",
     "output_type": "stream",
     "text": [
      "shape of y: (100000,)\n"
     ]
    }
   ],
   "source": [
    "# class label\n",
    "y = final_100k[\"Score\"]\n",
    "print(\"shape of y:\", y.shape)"
   ]
  },
  {
   "cell_type": "code",
   "execution_count": 21,
   "metadata": {},
   "outputs": [
    {
     "name": "stdout",
     "output_type": "stream",
     "text": [
      "(70000,) (70000,) (30000,)\n"
     ]
    }
   ],
   "source": [
    "# split data into train and test where 70% data used to train model and 30% for test\n",
    "from sklearn.model_selection import train_test_split\n",
    "X_train, x_test, y_train, y_test = train_test_split(X, y, test_size = 0.3, random_state = 42, shuffle = False)\n",
    "print(X_train.shape, y_train.shape, x_test.shape)"
   ]
  },
  {
   "cell_type": "code",
   "execution_count": 22,
   "metadata": {},
   "outputs": [
    {
     "data": {
      "text/plain": [
       "<70000x31373 sparse matrix of type '<class 'numpy.int64'>'\n",
       "\twith 2094656 stored elements in Compressed Sparse Row format>"
      ]
     },
     "execution_count": 22,
     "metadata": {},
     "output_type": "execute_result"
    }
   ],
   "source": [
    "# Train Vectorizor\n",
    "from sklearn.feature_extraction.text import CountVectorizer \n",
    "bow = CountVectorizer()\n",
    "X_train = bow.fit_transform(X_train)\n",
    "X_train"
   ]
  },
  {
   "cell_type": "code",
   "execution_count": 23,
   "metadata": {},
   "outputs": [],
   "source": [
    "# Standardization \n",
    "from sklearn.preprocessing import StandardScaler\n",
    "scaler = StandardScaler(with_mean = False)\n",
    "std_X_train = scaler.fit_transform(X_train)"
   ]
  },
  {
   "cell_type": "code",
   "execution_count": 24,
   "metadata": {},
   "outputs": [
    {
     "data": {
      "text/plain": [
       "(30000, 31373)"
      ]
     },
     "execution_count": 24,
     "metadata": {},
     "output_type": "execute_result"
    }
   ],
   "source": [
    "# Test Vectorizor\n",
    "x_test = bow.transform(x_test)\n",
    "x_test.shape"
   ]
  },
  {
   "cell_type": "code",
   "execution_count": 25,
   "metadata": {},
   "outputs": [],
   "source": [
    "scaler = StandardScaler(with_mean = False)\n",
    "std_x_test = scaler.fit_transform(x_test)"
   ]
  },
  {
   "cell_type": "code",
   "execution_count": 26,
   "metadata": {},
   "outputs": [
    {
     "data": {
      "text/plain": [
       "(30000, 31373)"
      ]
     },
     "execution_count": 26,
     "metadata": {},
     "output_type": "execute_result"
    }
   ],
   "source": [
    "std_x_test.shape"
   ]
  },
  {
   "cell_type": "code",
   "execution_count": 27,
   "metadata": {
    "scrolled": true
   },
   "outputs": [
    {
     "name": "stdout",
     "output_type": "stream",
     "text": [
      "\n",
      "**********GridSearchCV**********\n",
      "\n",
      "\n",
      "Optimal C: 0.01\n",
      "\n",
      "Best penalty: l2\n"
     ]
    },
    {
     "data": {
      "image/png": "[encoded data removed]",
      "text/plain": [
       "<matplotlib.figure.Figure at 0x745d634be0>"
      ]
     },
     "metadata": {},
     "output_type": "display_data"
    },
    {
     "data": {
      "text/plain": [
       "0.01"
      ]
     },
     "execution_count": 27,
     "metadata": {},
     "output_type": "execute_result"
    }
   ],
   "source": [
    "# To choose optimal c using cross validation\n",
    "from sklearn.model_selection import TimeSeriesSplit\n",
    "optimal_lambda_bow_grid = lr_grid_plot(std_X_train, y_train)\n",
    "optimal_lambda_bow_grid"
   ]
  },
  {
   "cell_type": "markdown",
   "metadata": {},
   "source": [
    "As we can see in the error vs c graph, when c value is increasing, error is slightly increasing and at 0.01(not cristal clear in the plotted graph because we are increasing c value exponentialy) error is less."
   ]
  },
  {
   "cell_type": "code",
   "execution_count": 28,
   "metadata": {},
   "outputs": [],
   "source": [
    "# instantiate learning model \n",
    "lr_model =  LogisticRegression(penalty = 'l2', C = optimal_lambda_bow_grid, class_weight = \"balanced\")\n",
    "# fitting the model\n",
    "lr_model.fit(std_X_train, y_train)\n",
    "# predict the response\n",
    "pred = lr_model.predict(std_x_test)\n",
    "# predict probablistic response\n",
    "pred_prob = lr_model.predict_proba(std_x_test)"
   ]
  },
  {
   "cell_type": "code",
   "execution_count": 29,
   "metadata": {},
   "outputs": [
    {
     "name": "stdout",
     "output_type": "stream",
     "text": [
      "Average precision score: 0.9690376273112409\n",
      "F1_score: 0.9312872104218654\n",
      "Auc score: 0.9690916270782933\n"
     ]
    },
    {
     "data": {
      "image/png": "[encoded data removed]",
      "text/plain": [
       "<matplotlib.figure.Figure at 0x745bf04be0>"
      ]
     },
     "metadata": {},
     "output_type": "display_data"
    }
   ],
   "source": [
    "# F1-score, auc, precision_recall_curve\n",
    "from sklearn.metrics import f1_score, auc, precision_recall_curve, average_precision_score\n",
    "from sklearn.metrics import auc\n",
    "f1 = f1_score(y_test, pred)\n",
    "precision, recall, thresholds = precision_recall_curve(y_test, pred_prob[:,1])\n",
    "auc = auc(recall, precision)\n",
    "avg_precision = average_precision_score(y_test, pred_prob[:,1])\n",
    "print(\"Average precision score:\", avg_precision)\n",
    "print(\"F1_score:\", f1)\n",
    "print(\"Auc score:\",auc)\n",
    "plot_precision_recall_curve(recall, precision)"
   ]
  },
  {
   "cell_type": "code",
   "execution_count": 30,
   "metadata": {},
   "outputs": [
    {
     "name": "stdout",
     "output_type": "stream",
     "text": [
      "Train accuracy: 0.9710142857142857\n"
     ]
    }
   ],
   "source": [
    "train_acc_bow_grid = lr_model.score(std_X_train, y_train)\n",
    "print(\"Train accuracy:\",train_acc_bow_grid)"
   ]
  },
  {
   "cell_type": "code",
   "execution_count": 31,
   "metadata": {},
   "outputs": [
    {
     "name": "stdout",
     "output_type": "stream",
     "text": [
      "\n",
      "The accuracy of the logistic regression for c = 0.010000 is 88.34%\n"
     ]
    }
   ],
   "source": [
    "test_acc_bow_grid = accuracy_score(y_test, pred) * 100\n",
    "print('\\nThe accuracy of the logistic regression for c = %f is %.2f%%' % (optimal_lambda_bow_grid, test_acc_bow_grid))"
   ]
  },
  {
   "cell_type": "code",
   "execution_count": 32,
   "metadata": {},
   "outputs": [
    {
     "data": {
      "text/plain": [
       "array([[ 2805,  1298],\n",
       "       [ 2199, 23698]], dtype=int64)"
      ]
     },
     "execution_count": 32,
     "metadata": {},
     "output_type": "execute_result"
    }
   ],
   "source": [
    "# Confusion Matrix\n",
    "from sklearn.metrics import confusion_matrix\n",
    "cm = confusion_matrix(y_test, pred)\n",
    "cm"
   ]
  },
  {
   "cell_type": "code",
   "execution_count": 33,
   "metadata": {},
   "outputs": [
    {
     "data": {
      "image/png": "[encoded data removed]",
      "text/plain": [
       "<matplotlib.figure.Figure at 0x746322bb70>"
      ]
     },
     "metadata": {},
     "output_type": "display_data"
    }
   ],
   "source": [
    "# plot confusion matrix to describe the performance of classifier.\n",
    "import seaborn as sns\n",
    "class_label = [\"negative\", \"positive\"]\n",
    "df_cm = pd.DataFrame(cm, index = class_label, columns = class_label)\n",
    "sns.heatmap(df_cm, annot = True, fmt = \"d\")\n",
    "plt.title(\"Confusiion Matrix\")\n",
    "plt.xlabel(\"Predicted Label\")\n",
    "plt.ylabel(\"True Label\")\n",
    "plt.show()"
   ]
  },
  {
   "cell_type": "code",
   "execution_count": 34,
   "metadata": {
    "scrolled": true
   },
   "outputs": [
    {
     "name": "stdout",
     "output_type": "stream",
     "text": [
      "              precision    recall  f1-score   support\n",
      "\n",
      "           0       0.56      0.68      0.62      4103\n",
      "           1       0.95      0.92      0.93     25897\n",
      "\n",
      "   micro avg       0.88      0.88      0.88     30000\n",
      "   macro avg       0.75      0.80      0.77     30000\n",
      "weighted avg       0.90      0.88      0.89     30000\n",
      "\n"
     ]
    }
   ],
   "source": [
    "# To show main classification report\n",
    "from sklearn.metrics import classification_report\n",
    "print(classification_report(y_test, pred))"
   ]
  },
  {
   "cell_type": "code",
   "execution_count": 35,
   "metadata": {
    "scrolled": true
   },
   "outputs": [
    {
     "name": "stdout",
     "output_type": "stream",
     "text": [
      "\n",
      "\n",
      "**********RandomizedSearchCV**********\n",
      "\n",
      "\n",
      "Optimal C: 0.8942617375947473\n",
      "\n",
      "Best penalty: l1\n"
     ]
    },
    {
     "data": {
      "image/png": "[encoded data removed]",
      "text/plain": [
       "<matplotlib.figure.Figure at 0x74694a7c88>"
      ]
     },
     "metadata": {},
     "output_type": "display_data"
    },
    {
     "data": {
      "text/plain": [
       "0.8942617375947473"
      ]
     },
     "execution_count": 35,
     "metadata": {},
     "output_type": "execute_result"
    }
   ],
   "source": [
    "optimal_lambda_bow_random = lr_random_plot(std_X_train, y_train)\n",
    "optimal_lambda_bow_random"
   ]
  },
  {
   "cell_type": "markdown",
   "metadata": {},
   "source": [
    "We can see in random search, c value choosen randomly and we plotted error on randomly choosen each c value. As it does not make much more sense but can give some intution to uninformed person."
   ]
  },
  {
   "cell_type": "code",
   "execution_count": 36,
   "metadata": {},
   "outputs": [],
   "source": [
    "# instantiate learning model \n",
    "lr_model =  LogisticRegression(penalty = 'l1', C = optimal_lambda_bow_random, class_weight = \"balanced\")\n",
    "# fitting the model\n",
    "lr_model.fit(std_X_train, y_train)\n",
    "# predict the response\n",
    "pred = lr_model.predict(std_x_test)\n",
    "# predict probablistic response\n",
    "pred_prob = lr_model.predict_proba(std_x_test)"
   ]
  },
  {
   "cell_type": "markdown",
   "metadata": {},
   "source": [
    "As we know it is imbalanced data, so we should not use accuracy to evaluate our classifier beacause it apply a naive(0.5) threshold to decide b/w classes and it is usually wrong when we are dealing with imbalanced data. We used class_weight = \"balanced\" which will implicitly balance the minority class. this can be thought as oversampling. The \"balanced\" mode uses the values of y to automatically adjust weights inversely proportional to class frequencies in the input data. <br>\n",
    "https://stackoverflow.com/questions/30972029/how-does-the-class-weight-parameter-in-scikit-learn-work <br>\n",
    "https://github.com/scikit-learn/scikit-learn/blob/master/sklearn/utils/class_weight.py <br>\n",
    "https://github.com/scikit-learn/scikit-learn/issues/4324"
   ]
  },
  {
   "cell_type": "code",
   "execution_count": 37,
   "metadata": {},
   "outputs": [
    {
     "name": "stdout",
     "output_type": "stream",
     "text": [
      "Average precision score: 0.9578121261574786\n",
      "F1_score: 0.9232038015198226\n",
      "Auc score: 0.9590816825513797\n"
     ]
    },
    {
     "data": {
      "image/png": "[encoded data removed]",
      "text/plain": [
       "<matplotlib.figure.Figure at 0x7455e03198>"
      ]
     },
     "metadata": {},
     "output_type": "display_data"
    }
   ],
   "source": [
    "# F1-score, auc, precision_recall_curve\n",
    "from sklearn.metrics import f1_score, auc, precision_recall_curve, average_precision_score\n",
    "from sklearn.metrics import auc\n",
    "f1 = f1_score(y_test, pred)\n",
    "precision, recall, thresholds = precision_recall_curve(y_test, pred_prob[:,1])\n",
    "auc = auc(recall, precision)\n",
    "avg_precision = average_precision_score(y_test, pred_prob[:,1])\n",
    "print(\"Average precision score:\", avg_precision)\n",
    "print(\"F1_score:\", f1)\n",
    "print(\"Auc score:\",auc)\n",
    "plot_precision_recall_curve(recall, precision)"
   ]
  },
  {
   "cell_type": "markdown",
   "metadata": {},
   "source": [
    "We used F1-score(2*(precision * recall)/(precision + recall)) which is a good performence measure and usually recommended when dealing with imbalanced data. A good F1 score for class +ve(1) is closer to 1. Here, F1-score is 92 which shows a good results."
   ]
  },
  {
   "cell_type": "code",
   "execution_count": 38,
   "metadata": {},
   "outputs": [
    {
     "name": "stdout",
     "output_type": "stream",
     "text": [
      "Train accuracy: 0.9786571428571429\n"
     ]
    }
   ],
   "source": [
    "train_acc_bow_random = lr_model.score(std_X_train, y_train)\n",
    "print(\"Train accuracy:\",train_acc_bow_random)"
   ]
  },
  {
   "cell_type": "code",
   "execution_count": 39,
   "metadata": {},
   "outputs": [
    {
     "name": "stdout",
     "output_type": "stream",
     "text": [
      "\n",
      "The accuracy of the logistic regression for c = 0.894262 is 86.96%\n"
     ]
    }
   ],
   "source": [
    "test_acc_bow_random = accuracy_score(y_test, pred) * 100\n",
    "print('\\nThe accuracy of the logistic regression for c = %f is %.2f%%' % (optimal_lambda_bow_random, test_acc_bow_random))"
   ]
  },
  {
   "cell_type": "code",
   "execution_count": 40,
   "metadata": {},
   "outputs": [
    {
     "data": {
      "text/plain": [
       "array([[ 2581,  1522],\n",
       "       [ 2389, 23508]], dtype=int64)"
      ]
     },
     "execution_count": 40,
     "metadata": {},
     "output_type": "execute_result"
    }
   ],
   "source": [
    "# Confusion Matrix\n",
    "from sklearn.metrics import confusion_matrix\n",
    "cm = confusion_matrix(y_test, pred)\n",
    "cm"
   ]
  },
  {
   "cell_type": "code",
   "execution_count": 41,
   "metadata": {},
   "outputs": [
    {
     "data": {
      "image/png": "[encoded data removed]",
      "text/plain": [
       "<matplotlib.figure.Figure at 0x74564551d0>"
      ]
     },
     "metadata": {},
     "output_type": "display_data"
    }
   ],
   "source": [
    "# plot confusion matrix to describe the performance of classifier.\n",
    "import seaborn as sns\n",
    "class_label = [\"negative\", \"positive\"]\n",
    "df_cm = pd.DataFrame(cm, index = class_label, columns = class_label)\n",
    "sns.heatmap(df_cm, annot = True, fmt = \"d\")\n",
    "plt.title(\"Confusiion Matrix\")\n",
    "plt.xlabel(\"Predicted Label\")\n",
    "plt.ylabel(\"True Label\")\n",
    "plt.show()"
   ]
  },
  {
   "cell_type": "code",
   "execution_count": 42,
   "metadata": {},
   "outputs": [
    {
     "name": "stdout",
     "output_type": "stream",
     "text": [
      "              precision    recall  f1-score   support\n",
      "\n",
      "           0       0.52      0.63      0.57      4103\n",
      "           1       0.94      0.91      0.92     25897\n",
      "\n",
      "   micro avg       0.87      0.87      0.87     30000\n",
      "   macro avg       0.73      0.77      0.75     30000\n",
      "weighted avg       0.88      0.87      0.87     30000\n",
      "\n"
     ]
    }
   ],
   "source": [
    "# To show main classification report\n",
    "from sklearn.metrics import classification_report\n",
    "print(classification_report(y_test, pred))"
   ]
  },
  {
   "cell_type": "code",
   "execution_count": 43,
   "metadata": {
    "scrolled": true
   },
   "outputs": [
    {
     "name": "stdout",
     "output_type": "stream",
     "text": [
      "\n",
      "C value: 10\n",
      "Coefficient of each feature: [[0. 0. 0. ... 0. 0. 0.]]\n",
      "Training accuracy: 83.63%\n",
      "Test accuracy: 76.62%\n",
      "Number of non-zero element:  9547\n",
      "\n",
      "C value: 1\n",
      "Coefficient of each feature: [[0. 0. 0. ... 0. 0. 0.]]\n",
      "Training accuracy: 81.61%\n",
      "Test accuracy: 77.92%\n",
      "Number of non-zero element:  4933\n",
      "\n",
      "C value: 0.1\n",
      "Coefficient of each feature: [[0. 0. 0. ... 0. 0. 0.]]\n",
      "Training accuracy: 81.21%\n",
      "Test accuracy: 80.61%\n",
      "Number of non-zero element:  1252\n"
     ]
    }
   ],
   "source": [
    "# Tried different value of c and finding features weight\n",
    "# More Sparsity (Fewer elements of W* being non-zero) by increasing Lambda (decreasing C)\n",
    "C_param = [10, 1, 0.1]\n",
    "\n",
    "for c in C_param:\n",
    "    clf = LogisticRegression(penalty='l1', C = c, class_weight = \"balanced\")\n",
    "    clf.fit(X_train, y_train)\n",
    "    print('\\nC value:', c)\n",
    "    print('Coefficient of each feature:', clf.coef_)\n",
    "    print('Training accuracy: %0.2f%%' %(clf.score(std_X_train, y_train) * 100))\n",
    "    print('Test accuracy: %0.2f%%' %(clf.score(std_x_test, y_test) * 100))\n",
    "    print(\"Number of non-zero element: \",np.count_nonzero(clf.coef_))"
   ]
  },
  {
   "cell_type": "markdown",
   "metadata": {},
   "source": [
    "## Checking for multicollinearity using pertubation test"
   ]
  },
  {
   "cell_type": "code",
   "execution_count": 44,
   "metadata": {},
   "outputs": [
    {
     "name": "stdout",
     "output_type": "stream",
     "text": [
      "Accuracy score: 86.95%\n",
      "12290\n"
     ]
    }
   ],
   "source": [
    "clf = LogisticRegression(penalty='l1', C = optimal_lambda_bow_random, class_weight = \"balanced\")\n",
    "clf.fit(std_X_train, y_train)\n",
    "y_pred = clf.predict(std_x_test)\n",
    "print(\"Accuracy score: %0.2f%%\" %(accuracy_score(y_test, y_pred) * 100))\n",
    "print(np.count_nonzero(clf.coef_))"
   ]
  },
  {
   "cell_type": "code",
   "execution_count": 45,
   "metadata": {},
   "outputs": [
    {
     "data": {
      "text/plain": [
       "(70000, 31373)"
      ]
     },
     "execution_count": 45,
     "metadata": {},
     "output_type": "execute_result"
    }
   ],
   "source": [
    "std_X_train.shape"
   ]
  },
  {
   "cell_type": "code",
   "execution_count": 46,
   "metadata": {
    "scrolled": true
   },
   "outputs": [
    {
     "name": "stdout",
     "output_type": "stream",
     "text": [
      "[ 0.00700233  0.05341299  0.0413039  -0.07670476  0.01054967 -0.04019997\n",
      "  0.00649232  0.0359533   0.06503626 -0.04407528  0.07602213  0.1576802\n",
      " -0.00018427 -0.06443075 -0.05869084  0.00484927  0.03611886 -0.05202776\n",
      "  0.09810958  0.01428477]\n"
     ]
    }
   ],
   "source": [
    "from scipy.sparse import find\n",
    "\n",
    "# Before adding noise in data\n",
    "cf = clf.coef_[0]\n",
    "w_coef1 = cf[np.nonzero(cf)]\n",
    "print(w_coef1[:20])"
   ]
  },
  {
   "cell_type": "code",
   "execution_count": 47,
   "metadata": {},
   "outputs": [
    {
     "data": {
      "text/plain": [
       "(70000, 31373)"
      ]
     },
     "execution_count": 47,
     "metadata": {},
     "output_type": "execute_result"
    }
   ],
   "source": [
    "# Generate random normal variable as a noise \n",
    "std_X_train_pert = std_X_train\n",
    "noise = np.random.normal(0, 0.0001, size = (std_X_train_pert[np.nonzero(std_X_train_pert)].size))\n",
    "#print(noise.shape)\n",
    "np.nonzero(std_X_train_pert)\n",
    "std_X_train_pert[np.nonzero(std_X_train_pert)] = noise + std_X_train_pert[np.nonzero(std_X_train_pert)]\n",
    "std_X_train_pert.shape"
   ]
  },
  {
   "cell_type": "code",
   "execution_count": 48,
   "metadata": {},
   "outputs": [
    {
     "name": "stdout",
     "output_type": "stream",
     "text": [
      "Accuracy score: 86.96%\n",
      "12306\n"
     ]
    }
   ],
   "source": [
    "clf = LogisticRegression(penalty ='l1', C = optimal_lambda_bow_random, class_weight = \"balanced\")\n",
    "clf.fit(std_X_train_pert, y_train)\n",
    "y_pred = clf.predict(std_x_test)\n",
    "print(\"Accuracy score: %0.2f%%\" %(accuracy_score(y_test, y_pred) * 100))\n",
    "print(np.count_nonzero(clf.coef_))"
   ]
  },
  {
   "cell_type": "code",
   "execution_count": 49,
   "metadata": {},
   "outputs": [
    {
     "name": "stdout",
     "output_type": "stream",
     "text": [
      "[ 0.00696214  0.07343338  0.04132438 -0.07670086  0.01054026 -0.04047809\n",
      "  0.00664749  0.03592013  0.06504404 -0.04409145  0.07600065  0.15774789\n",
      " -0.00038678 -0.06475417 -0.05871674  0.00489932  0.03615079 -0.0521023\n",
      "  0.09826597  0.01423373]\n"
     ]
    }
   ],
   "source": [
    "cf = clf.coef_[0]\n",
    "w_coef2 = cf[np.nonzero(cf)]\n",
    "print(w_coef2[:20])"
   ]
  },
  {
   "cell_type": "code",
   "execution_count": 50,
   "metadata": {},
   "outputs": [
    {
     "name": "stdout",
     "output_type": "stream",
     "text": [
      "No of weights that changes more than 40% is: 9962\n"
     ]
    }
   ],
   "source": [
    "# Calculate %increase \n",
    "cnt = 0\n",
    "for w1, w2 in zip(w_coef1, w_coef2):\n",
    "    inc = abs(w1 - w2)/abs(w1) * 100\n",
    "    if inc > 40:\n",
    "        cnt += 1\n",
    "print(\"No of weights that changes more than 40% is:\", cnt)"
   ]
  },
  {
   "cell_type": "code",
   "execution_count": 51,
   "metadata": {},
   "outputs": [
    {
     "name": "stdout",
     "output_type": "stream",
     "text": [
      "*****Top 10 positive*****\n",
      "       Coefficient     Word\n",
      "11844     1.673659    great\n",
      "17684     1.517309     mole\n",
      "2500      1.514809     best\n",
      "16701     1.455165   marmit\n",
      "16124     1.415644     love\n",
      "20395     1.197361  perfect\n",
      "20871     1.122769    plaqu\n",
      "267       1.074002   addict\n",
      "24982     1.004697  skeptic\n",
      "11567     0.996651     good\n",
      "*****Top 10 negative*****\n",
      "       Coefficient        Word\n",
      "4036     -0.588534      canida\n",
      "13968    -0.602908   insuffici\n",
      "20637    -0.610868   physiolog\n",
      "10515    -0.612701    fragment\n",
      "23302    -0.620950       river\n",
      "26235    -0.626423       stool\n",
      "7708     -0.629867  disappoint\n",
      "30898    -0.747167         www\n",
      "5272     -0.830706     clasico\n",
      "30802    -1.049499       worst\n"
     ]
    }
   ],
   "source": [
    "# Features importance \n",
    "\n",
    "features = bow.get_feature_names()\n",
    "coef = clf.coef_[0]\n",
    "coeff_df = pd.DataFrame({'Word' : features, 'Coefficient' : coef})\n",
    "coeff_df = coeff_df.sort_values(\"Coefficient\", ascending = False)\n",
    "print('*****Top 10 positive*****')\n",
    "print(coeff_df.head(10))\n",
    "print('*****Top 10 negative*****')\n",
    "print(coeff_df.tail(10))"
   ]
  },
  {
   "cell_type": "markdown",
   "metadata": {},
   "source": [
    "**Terminology**<br>\n",
    "\n",
    "**true positives (TP):** We predicted +ve review, and review is also +ve.<br>\n",
    "**true negatives (TN):** We predicted -ve, and review is also -ve.<br>\n",
    "**false positives (FP):** We predicted +ve, but the review is not actually +ve.(Also known as a \"Type I error.\")<br>\n",
    "**false negatives (FN):** We predicted -ve, but the review is actually +ve.(Also known as a \"Type II error.\")<br>\n"
   ]
  },
  {
   "cell_type": "markdown",
   "metadata": {},
   "source": [
    "**Observations**</br>\n",
    "1. When we applied logistic regression on bow featurization using grid search and random search it does perform well in both cases but comparison to random search, grid search accuracy is quite high.\n",
    "2. F1-score is good in grid search comparison to random search which shows that classifier is working good.\n",
    "3. We have also seen that as we are decreasing the value of c we are getting more sparse solution i.e. the less important features becomes zero. which can be help to designing a low latency system.\n",
    "4. In a nutshell we can say the generalization error is low means this model works quite well with unseen data.\n",
    "5. Features are collinear so we can not use feature importance without removing collinear features."
   ]
  },
  {
   "cell_type": "markdown",
   "metadata": {},
   "source": [
    "# Tf-Idf"
   ]
  },
  {
   "cell_type": "code",
   "execution_count": 52,
   "metadata": {},
   "outputs": [],
   "source": [
    "# data\n",
    "X = final_100k[\"CleanedText\"]"
   ]
  },
  {
   "cell_type": "code",
   "execution_count": 53,
   "metadata": {},
   "outputs": [],
   "source": [
    "# Target/class-label\n",
    "y = final_100k[\"Score\"]"
   ]
  },
  {
   "cell_type": "code",
   "execution_count": 54,
   "metadata": {},
   "outputs": [
    {
     "name": "stdout",
     "output_type": "stream",
     "text": [
      "(70000,) (30000,) (70000,) (30000,)\n"
     ]
    }
   ],
   "source": [
    "# Split data\n",
    "X_train, x_test, y_train, y_test = train_test_split(X, y, test_size = 0.3, random_state = 42, shuffle = False)\n",
    "print(X_train.shape, x_test.shape, y_train.shape, y_test.shape)"
   ]
  },
  {
   "cell_type": "code",
   "execution_count": 55,
   "metadata": {},
   "outputs": [
    {
     "data": {
      "text/plain": [
       "<70000x918966 sparse matrix of type '<class 'numpy.float64'>'\n",
       "\twith 4504849 stored elements in Compressed Sparse Row format>"
      ]
     },
     "execution_count": 55,
     "metadata": {},
     "output_type": "execute_result"
    }
   ],
   "source": [
    "from sklearn.feature_extraction.text import TfidfVectorizer\n",
    "tf_idf_vect = TfidfVectorizer(ngram_range=(1,2))\n",
    "X_train = tf_idf_vect.fit_transform(X_train)\n",
    "X_trn = X_train\n",
    "X_train"
   ]
  },
  {
   "cell_type": "code",
   "execution_count": 56,
   "metadata": {},
   "outputs": [],
   "source": [
    "# Standardization \n",
    "from sklearn.preprocessing import StandardScaler\n",
    "scaler = StandardScaler(with_mean = False)\n",
    "std_X_train = scaler.fit_transform(X_train)"
   ]
  },
  {
   "cell_type": "code",
   "execution_count": 57,
   "metadata": {},
   "outputs": [
    {
     "data": {
      "text/plain": [
       "(30000, 918966)"
      ]
     },
     "execution_count": 57,
     "metadata": {},
     "output_type": "execute_result"
    }
   ],
   "source": [
    "# Convert test text data to its vectorizor\n",
    "x_test = tf_idf_vect.transform(x_test)\n",
    "x_tst = x_test\n",
    "x_test.shape"
   ]
  },
  {
   "cell_type": "code",
   "execution_count": 58,
   "metadata": {},
   "outputs": [],
   "source": [
    "scaler = StandardScaler(with_mean = False)\n",
    "std_x_test = scaler.fit_transform(x_test)"
   ]
  },
  {
   "cell_type": "code",
   "execution_count": 59,
   "metadata": {},
   "outputs": [
    {
     "name": "stdout",
     "output_type": "stream",
     "text": [
      "\n",
      "**********GridSearchCV**********\n",
      "\n",
      "\n",
      "Optimal C: 0.01\n",
      "\n",
      "Best penalty: l1\n"
     ]
    },
    {
     "data": {
      "image/png": "[encoded data removed]",
      "text/plain": [
       "<matplotlib.figure.Figure at 0x74043cef98>"
      ]
     },
     "metadata": {},
     "output_type": "display_data"
    },
    {
     "data": {
      "text/plain": [
       "0.01"
      ]
     },
     "execution_count": 59,
     "metadata": {},
     "output_type": "execute_result"
    }
   ],
   "source": [
    "# To choose optimal_alpha using nested cross validation\n",
    "optimal_lambda_tfidf_grid = lr_grid_plot(std_X_train, y_train)\n",
    "optimal_lambda_tfidf_grid"
   ]
  },
  {
   "cell_type": "code",
   "execution_count": 60,
   "metadata": {},
   "outputs": [],
   "source": [
    "# instantiate learning model \n",
    "lr_model =  LogisticRegression(penalty = 'l1', C = optimal_lambda_tfidf_grid, class_weight = \"balanced\")\n",
    "# fitting the model\n",
    "lr_model.fit(std_X_train, y_train)\n",
    "# predict the response\n",
    "pred = lr_model.predict(std_x_test)\n",
    "# predict probablistic response\n",
    "pred_prob = lr_model.predict_proba(std_x_test)"
   ]
  },
  {
   "cell_type": "code",
   "execution_count": 61,
   "metadata": {},
   "outputs": [
    {
     "name": "stdout",
     "output_type": "stream",
     "text": [
      "Average precision score: 0.9880400154093555\n",
      "F1_score: 0.9525905408738213\n",
      "Auc score: 0.9880398511208974\n"
     ]
    },
    {
     "data": {
      "image/png": "[encoded data removed]",
      "text/plain": [
       "<matplotlib.figure.Figure at 0x74569972e8>"
      ]
     },
     "metadata": {},
     "output_type": "display_data"
    }
   ],
   "source": [
    "# F1-score, auc, precision_recall_curve\n",
    "from sklearn.metrics import f1_score, auc, precision_recall_curve, average_precision_score\n",
    "from sklearn.metrics import auc\n",
    "f1 = f1_score(y_test, pred)\n",
    "precision, recall, thresholds = precision_recall_curve(y_test, pred_prob[:,1])\n",
    "auc = auc(recall, precision)\n",
    "avg_precision = average_precision_score(y_test, pred_prob[:,1])\n",
    "print(\"Average precision score:\", avg_precision)\n",
    "print(\"F1_score:\", f1)\n",
    "print(\"Auc score:\",auc)\n",
    "plot_precision_recall_curve(recall, precision)"
   ]
  },
  {
   "cell_type": "code",
   "execution_count": 62,
   "metadata": {},
   "outputs": [
    {
     "name": "stdout",
     "output_type": "stream",
     "text": [
      "Train accuracy 0.987700%:\n"
     ]
    }
   ],
   "source": [
    "train_acc_tfidf_grid = lr_model.score(std_X_train, y_train)\n",
    "print(\"Train accuracy %f%%:\" % (train_acc_tfidf_grid))"
   ]
  },
  {
   "cell_type": "code",
   "execution_count": 63,
   "metadata": {},
   "outputs": [
    {
     "name": "stdout",
     "output_type": "stream",
     "text": [
      "\n",
      "The accuracy of the logistic regression for c = 0.010000 is 91.67%\n"
     ]
    }
   ],
   "source": [
    "test_acc_tfidf_grid = accuracy_score(y_test, pred) * 100\n",
    "print('\\nThe accuracy of the logistic regression for c = %f is %.2f%%' % (optimal_lambda_tfidf_grid, test_acc_tfidf_grid))"
   ]
  },
  {
   "cell_type": "code",
   "execution_count": 64,
   "metadata": {},
   "outputs": [
    {
     "data": {
      "text/plain": [
       "array([[ 2395,  1708],\n",
       "       [  791, 25106]], dtype=int64)"
      ]
     },
     "execution_count": 64,
     "metadata": {},
     "output_type": "execute_result"
    }
   ],
   "source": [
    "# Confusion Matrix\n",
    "from sklearn.metrics import confusion_matrix\n",
    "cm = confusion_matrix(y_test, pred)\n",
    "cm"
   ]
  },
  {
   "cell_type": "code",
   "execution_count": 65,
   "metadata": {},
   "outputs": [
    {
     "data": {
      "image/png": "[encoded data removed]",
      "text/plain": [
       "<matplotlib.figure.Figure at 0x745f2dd5c0>"
      ]
     },
     "metadata": {},
     "output_type": "display_data"
    }
   ],
   "source": [
    "# plot confusion matrix to describe the performance of classifier.\n",
    "import seaborn as sns\n",
    "class_label = [\"negative\", \"positive\"]\n",
    "df_cm = pd.DataFrame(cm, index = class_label, columns = class_label)\n",
    "sns.heatmap(df_cm, annot = True, fmt = \"d\")\n",
    "plt.title(\"Confusiion Matrix\")\n",
    "plt.xlabel(\"Predicted Label\")\n",
    "plt.ylabel(\"True Label\")\n",
    "plt.show()"
   ]
  },
  {
   "cell_type": "code",
   "execution_count": 66,
   "metadata": {},
   "outputs": [
    {
     "name": "stdout",
     "output_type": "stream",
     "text": [
      "              precision    recall  f1-score   support\n",
      "\n",
      "           0       0.75      0.58      0.66      4103\n",
      "           1       0.94      0.97      0.95     25897\n",
      "\n",
      "   micro avg       0.92      0.92      0.92     30000\n",
      "   macro avg       0.84      0.78      0.80     30000\n",
      "weighted avg       0.91      0.92      0.91     30000\n",
      "\n"
     ]
    }
   ],
   "source": [
    "# To show main classification report\n",
    "from sklearn.metrics import classification_report\n",
    "print(classification_report(y_test, pred))"
   ]
  },
  {
   "cell_type": "code",
   "execution_count": 67,
   "metadata": {},
   "outputs": [
    {
     "name": "stdout",
     "output_type": "stream",
     "text": [
      "\n",
      "\n",
      "**********RandomizedSearchCV**********\n",
      "\n",
      "\n",
      "Optimal C: 0.23860360422442373\n",
      "\n",
      "Best penalty: l1\n"
     ]
    },
    {
     "data": {
      "image/png": "[encoded data removed]",
      "text/plain": [
       "<matplotlib.figure.Figure at 0x7453041160>"
      ]
     },
     "metadata": {},
     "output_type": "display_data"
    },
    {
     "data": {
      "text/plain": [
       "0.23860360422442373"
      ]
     },
     "execution_count": 67,
     "metadata": {},
     "output_type": "execute_result"
    }
   ],
   "source": [
    "optimal_lambda_tfidf_random = lr_random_plot(std_X_train, y_train)\n",
    "optimal_lambda_tfidf_random"
   ]
  },
  {
   "cell_type": "code",
   "execution_count": 68,
   "metadata": {},
   "outputs": [],
   "source": [
    "# instantiate learning model \n",
    "lr_model =  LogisticRegression(penalty = 'l1', C = optimal_lambda_tfidf_random, class_weight = \"balanced\")\n",
    "# fitting the model\n",
    "lr_model.fit(std_X_train, y_train)\n",
    "# predict the response\n",
    "pred = lr_model.predict(std_x_test)\n",
    "# predict probablistic response\n",
    "pred_prob = lr_model.predict_proba(std_x_test)"
   ]
  },
  {
   "cell_type": "code",
   "execution_count": 69,
   "metadata": {},
   "outputs": [
    {
     "name": "stdout",
     "output_type": "stream",
     "text": [
      "Average precision score: 0.9876647243700902\n",
      "F1_score: 0.9504262000897263\n",
      "Auc score: 0.9876644215579895\n"
     ]
    },
    {
     "data": {
      "image/png": "[encoded data removed]",
      "text/plain": [
       "<matplotlib.figure.Figure at 0x7453ad06d8>"
      ]
     },
     "metadata": {},
     "output_type": "display_data"
    }
   ],
   "source": [
    "# F1-score, auc, precision_recall_curve\n",
    "from sklearn.metrics import f1_score, auc, precision_recall_curve, average_precision_score\n",
    "from sklearn.metrics import auc\n",
    "f1 = f1_score(y_test, pred)\n",
    "precision, recall, thresholds = precision_recall_curve(y_test, pred_prob[:,1])\n",
    "auc = auc(recall, precision)\n",
    "avg_precision = average_precision_score(y_test, pred_prob[:,1])\n",
    "print(\"Average precision score:\", avg_precision)\n",
    "print(\"F1_score:\", f1)\n",
    "print(\"Auc score:\",auc)\n",
    "plot_precision_recall_curve(recall, precision)"
   ]
  },
  {
   "cell_type": "code",
   "execution_count": 70,
   "metadata": {},
   "outputs": [
    {
     "name": "stdout",
     "output_type": "stream",
     "text": [
      "Training accuracy: 0.9999857142857143\n"
     ]
    }
   ],
   "source": [
    "train_acc_tfidf_random = lr_model.score(std_X_train, y_train)\n",
    "print(\"Training accuracy:\", train_acc_tfidf_random)"
   ]
  },
  {
   "cell_type": "code",
   "execution_count": 71,
   "metadata": {},
   "outputs": [
    {
     "name": "stdout",
     "output_type": "stream",
     "text": [
      "\n",
      "The accuracy of the logistic regression for c = 0.238604 is 91.16%\n"
     ]
    }
   ],
   "source": [
    "test_acc_tfidf_random = accuracy_score(y_test, pred) * 100\n",
    "print('\\nThe accuracy of the logistic regression for c = %f is %.2f%%' % (optimal_lambda_tfidf_random, test_acc_tfidf_random))"
   ]
  },
  {
   "cell_type": "code",
   "execution_count": 72,
   "metadata": {},
   "outputs": [
    {
     "data": {
      "text/plain": [
       "array([[ 1926,  2177],\n",
       "       [  475, 25422]], dtype=int64)"
      ]
     },
     "execution_count": 72,
     "metadata": {},
     "output_type": "execute_result"
    }
   ],
   "source": [
    "# Confusion Matrix\n",
    "from sklearn.metrics import confusion_matrix\n",
    "cm = confusion_matrix(y_test, pred)\n",
    "cm"
   ]
  },
  {
   "cell_type": "code",
   "execution_count": 73,
   "metadata": {
    "scrolled": false
   },
   "outputs": [
    {
     "data": {
      "image/png": "[encoded data removed]",
      "text/plain": [
       "<matplotlib.figure.Figure at 0x746b3537b8>"
      ]
     },
     "metadata": {},
     "output_type": "display_data"
    }
   ],
   "source": [
    "# plot confusion matrix to describe the performance of classifier.\n",
    "import seaborn as sns\n",
    "class_label = [\"negative\", \"positive\"]\n",
    "df_cm = pd.DataFrame(cm, index = class_label, columns = class_label)\n",
    "sns.heatmap(df_cm, annot = True, fmt = \"d\")\n",
    "plt.title(\"Confusiion Matrix\")\n",
    "plt.xlabel(\"Predicted Label\")\n",
    "plt.ylabel(\"True Label\")\n",
    "plt.show()"
   ]
  },
  {
   "cell_type": "code",
   "execution_count": 74,
   "metadata": {},
   "outputs": [
    {
     "name": "stdout",
     "output_type": "stream",
     "text": [
      "              precision    recall  f1-score   support\n",
      "\n",
      "           0       0.80      0.47      0.59      4103\n",
      "           1       0.92      0.98      0.95     25897\n",
      "\n",
      "   micro avg       0.91      0.91      0.91     30000\n",
      "   macro avg       0.86      0.73      0.77     30000\n",
      "weighted avg       0.90      0.91      0.90     30000\n",
      "\n"
     ]
    }
   ],
   "source": [
    "# To show main classification report\n",
    "from sklearn.metrics import classification_report\n",
    "print(classification_report(y_test, pred))"
   ]
  },
  {
   "cell_type": "code",
   "execution_count": 75,
   "metadata": {
    "scrolled": true
   },
   "outputs": [
    {
     "name": "stdout",
     "output_type": "stream",
     "text": [
      "\n",
      "C value: 10\n",
      "Coefficient of each feature: [[0. 0. 0. ... 0. 0. 0.]]\n",
      "Training accuracy: 78.476%\n",
      "Test accuracy: 74.343%\n",
      "Number of non-zero element:  10367\n",
      "\n",
      "C value: 1\n",
      "Coefficient of each feature: [[0. 0. 0. ... 0. 0. 0.]]\n",
      "Training accuracy: 85.226%\n",
      "Test accuracy: 84.003%\n",
      "Number of non-zero element:  1903\n",
      "\n",
      "C value: 0.1\n",
      "Coefficient of each feature: [[0. 0. 0. ... 0. 0. 0.]]\n",
      "Training accuracy: 84.727%\n",
      "Test accuracy: 84.987%\n",
      "Number of non-zero element:  194\n"
     ]
    }
   ],
   "source": [
    "# Tried different value of c and finding features weight\n",
    "# More Sparsity (Fewer elements of W* being non-zero) by increasing Lambda (decreasing C)\n",
    "C_param = [10, 1, 0.1]\n",
    "\n",
    "for c in C_param:\n",
    "    clf = LogisticRegression(penalty = 'l1', C = c, class_weight = \"balanced\")\n",
    "    clf.fit(X_train, y_train)\n",
    "    print('\\nC value:', c)\n",
    "    print('Coefficient of each feature:', clf.coef_)\n",
    "    print('Training accuracy: %0.3f%%' %(clf.score(std_X_train, y_train) * 100))\n",
    "    print('Test accuracy: %0.3f%%' %(clf.score(std_x_test, y_test) * 100))\n",
    "    print(\"Number of non-zero element: \",np.count_nonzero(clf.coef_))"
   ]
  },
  {
   "cell_type": "markdown",
   "metadata": {},
   "source": [
    "## Checking for multicollinearity using pertubation test"
   ]
  },
  {
   "cell_type": "code",
   "execution_count": 76,
   "metadata": {},
   "outputs": [
    {
     "name": "stdout",
     "output_type": "stream",
     "text": [
      "Accuracy score: 91.67%\n",
      "25941\n"
     ]
    }
   ],
   "source": [
    "clf = LogisticRegression(penalty = 'l1', C = optimal_lambda_tfidf_grid, class_weight = \"balanced\")\n",
    "clf.fit(std_X_train, y_train)\n",
    "y_pred = clf.predict(std_x_test)\n",
    "print(\"Accuracy score: %.2f%%\" %(accuracy_score(y_test, y_pred) * 100))\n",
    "print(np.count_nonzero(clf.coef_))"
   ]
  },
  {
   "cell_type": "code",
   "execution_count": 77,
   "metadata": {},
   "outputs": [
    {
     "data": {
      "text/plain": [
       "(70000, 918966)"
      ]
     },
     "execution_count": 77,
     "metadata": {},
     "output_type": "execute_result"
    }
   ],
   "source": [
    "std_X_train.shape"
   ]
  },
  {
   "cell_type": "code",
   "execution_count": 78,
   "metadata": {},
   "outputs": [
    {
     "data": {
      "text/plain": [
       "25941"
      ]
     },
     "execution_count": 78,
     "metadata": {},
     "output_type": "execute_result"
    }
   ],
   "source": [
    "np.count_nonzero(clf.coef_)"
   ]
  },
  {
   "cell_type": "code",
   "execution_count": 79,
   "metadata": {},
   "outputs": [
    {
     "name": "stdout",
     "output_type": "stream",
     "text": [
      "[-5.34660837e-03  2.69829787e-07 -1.12502174e-02 -3.20388213e-03\n",
      " -4.90267228e-06 -1.29518304e-03 -9.83575170e-03 -8.51583103e-03\n",
      " -3.38161558e-04  1.98212291e-03 -1.90405815e-05 -4.84107706e-03\n",
      " -9.56830670e-03 -1.63089828e-03 -6.50705239e-03 -6.44125436e-03\n",
      " -1.86941731e-04  6.48846600e-05 -2.25836974e-04 -7.67439650e-03]\n"
     ]
    }
   ],
   "source": [
    "from scipy.sparse import find\n",
    "\n",
    "# Before adding noise in data\n",
    "cf = clf.coef_[0]\n",
    "w_coef1 = cf[np.nonzero(cf)]\n",
    "print(w_coef1[:20])"
   ]
  },
  {
   "cell_type": "code",
   "execution_count": 80,
   "metadata": {},
   "outputs": [
    {
     "data": {
      "text/plain": [
       "(70000, 918966)"
      ]
     },
     "execution_count": 80,
     "metadata": {},
     "output_type": "execute_result"
    }
   ],
   "source": [
    "# Generate random normal variable as a noise \n",
    "std_X_train_pert = std_X_train\n",
    "noise = np.random.normal(0, 0.001, size = (std_X_train_pert[np.nonzero(std_X_train_pert)].size,))\n",
    "#print(noise.shape)\n",
    "np.nonzero(std_X_train_pert)\n",
    "std_X_train_pert[np.nonzero(std_X_train_pert)] = noise + std_X_train_pert[np.nonzero(std_X_train_pert)]\n",
    "std_X_train_pert.shape"
   ]
  },
  {
   "cell_type": "code",
   "execution_count": 81,
   "metadata": {},
   "outputs": [
    {
     "data": {
      "text/plain": [
       "(70000, 918966)"
      ]
     },
     "execution_count": 81,
     "metadata": {},
     "output_type": "execute_result"
    }
   ],
   "source": [
    "std_X_train_pert.shape"
   ]
  },
  {
   "cell_type": "code",
   "execution_count": 82,
   "metadata": {},
   "outputs": [
    {
     "name": "stdout",
     "output_type": "stream",
     "text": [
      "Accuracy score: 91.64%\n",
      "28254\n"
     ]
    }
   ],
   "source": [
    "clf = LogisticRegression(penalty = 'l1', C = optimal_lambda_tfidf_grid, class_weight = \"balanced\")\n",
    "clf.fit(std_X_train_pert, y_train)\n",
    "y_pred = clf.predict(std_x_test)\n",
    "print(\"Accuracy score: %0.2f%%\" %(accuracy_score(y_test, y_pred) * 100))\n",
    "print(np.count_nonzero(clf.coef_))"
   ]
  },
  {
   "cell_type": "code",
   "execution_count": 83,
   "metadata": {},
   "outputs": [
    {
     "data": {
      "text/plain": [
       "28254"
      ]
     },
     "execution_count": 83,
     "metadata": {},
     "output_type": "execute_result"
    }
   ],
   "source": [
    "np.count_nonzero(clf.coef_)"
   ]
  },
  {
   "cell_type": "code",
   "execution_count": 84,
   "metadata": {},
   "outputs": [
    {
     "name": "stdout",
     "output_type": "stream",
     "text": [
      "[-1.30268616e-04  3.52547637e-07 -9.29511052e-03 -2.05167273e-03\n",
      " -8.87310611e-09 -1.87409099e-03 -1.20495067e-02 -8.53370230e-03\n",
      " -6.84051111e-03  4.13605668e-05 -6.97507090e-03 -4.86942851e-03\n",
      " -8.01845737e-03 -3.30710756e-03 -4.86304712e-03 -6.43382539e-03\n",
      " -1.55072671e-04  5.99775078e-04  2.02746598e-04 -5.75468749e-05]\n"
     ]
    }
   ],
   "source": [
    "cf = clf.coef_[0]\n",
    "w_coef2 = cf[np.nonzero(cf)]\n",
    "print(w_coef2[:20])"
   ]
  },
  {
   "cell_type": "code",
   "execution_count": 85,
   "metadata": {},
   "outputs": [
    {
     "name": "stdout",
     "output_type": "stream",
     "text": [
      "No of weights that changes more than 40% is: 23929\n"
     ]
    }
   ],
   "source": [
    "# Calculate %increase \n",
    "cnt = 0\n",
    "for w1, w2 in zip(w_coef1, w_coef2):\n",
    "    inc = abs(w1 - w2)/abs(w1) * 100\n",
    "    if inc > 40:\n",
    "        cnt += 1\n",
    "print(\"No of weights that changes more than 40% is:\", cnt)"
   ]
  },
  {
   "cell_type": "code",
   "execution_count": 86,
   "metadata": {},
   "outputs": [
    {
     "name": "stdout",
     "output_type": "stream",
     "text": [
      "*****Top 10 positive*****\n",
      "        Coefficient            Word\n",
      "358511     0.776070           great\n",
      "71220      0.566746            best\n",
      "474782     0.554996            love\n",
      "213270     0.426021          delici\n",
      "591227     0.367895         perfect\n",
      "349213     0.363999            good\n",
      "275318     0.323315           excel\n",
      "386042     0.271762  high recommend\n",
      "292349     0.262710         favorit\n",
      "900387     0.235251          wonder\n",
      "*****Top 10 negative*****\n",
      "        Coefficient        Word\n",
      "881131    -0.147959  wast money\n",
      "82185     -0.149272       bland\n",
      "757891    -0.162521       stale\n",
      "671250    -0.169277      return\n",
      "392701    -0.172289     horribl\n",
      "822911    -0.174585       threw\n",
      "48095     -0.191153          aw\n",
      "809738    -0.219280     terribl\n",
      "905416    -0.259510       worst\n",
      "227960    -0.361474  disappoint\n"
     ]
    }
   ],
   "source": [
    "# Features importance \n",
    "\n",
    "features = tf_idf_vect.get_feature_names()\n",
    "coef = clf.coef_[0]\n",
    "coeff_df = pd.DataFrame({'Word' : features, 'Coefficient' : coef})\n",
    "coeff_df = coeff_df.sort_values('Coefficient', ascending = 0)\n",
    "print('*****Top 10 positive*****')\n",
    "print(coeff_df.head(10))\n",
    "print('*****Top 10 negative*****')\n",
    "print(coeff_df.tail(10))"
   ]
  },
  {
   "cell_type": "markdown",
   "metadata": {},
   "source": [
    "**Observations**\n",
    "1. As we are getting train_accuracy 99% and test_accuray 91% means train_accuracy is higher that test_accuracy. It can be possible due to low sample size, noise in data etc and as we know cross-validation does not completly remove overfitting but can give the best possible accuracy.\n",
    "2. When we are increasing value of c, sparsity is incresing means the less important features becomes zero. \n",
    "3. In a nutshell we can say this model works well with unseen data and also have high accuracy than bow representation.\n",
    "4. We check for multicollinearity using pertubation test and found that more than 80% of features weight changes more than 40% so features are collinear and hence we can not use feauture importance for interpretation."
   ]
  },
  {
   "cell_type": "markdown",
   "metadata": {},
   "source": [
    "# Word2vec"
   ]
  },
  {
   "cell_type": "code",
   "execution_count": 87,
   "metadata": {},
   "outputs": [
    {
     "data": {
      "text/plain": [
       "(100000,)"
      ]
     },
     "execution_count": 87,
     "metadata": {},
     "output_type": "execute_result"
    }
   ],
   "source": [
    "# data\n",
    "X = final_100k[\"Text\"]\n",
    "X.shape"
   ]
  },
  {
   "cell_type": "code",
   "execution_count": 88,
   "metadata": {},
   "outputs": [
    {
     "data": {
      "text/plain": [
       "(100000,)"
      ]
     },
     "execution_count": 88,
     "metadata": {},
     "output_type": "execute_result"
    }
   ],
   "source": [
    "# Target/class-label\n",
    "y = final_100k[\"Score\"]\n",
    "y.shape"
   ]
  },
  {
   "cell_type": "code",
   "execution_count": 89,
   "metadata": {},
   "outputs": [
    {
     "name": "stdout",
     "output_type": "stream",
     "text": [
      "(70000,) (30000,) (70000,) (30000,)\n"
     ]
    }
   ],
   "source": [
    "# Split data\n",
    "X_train, x_test, y_train, y_test = train_test_split(X, y, test_size = 0.3, random_state = 42, shuffle = False)\n",
    "print(X_train.shape, x_test.shape, y_train.shape, y_test.shape)"
   ]
  },
  {
   "cell_type": "code",
   "execution_count": 90,
   "metadata": {},
   "outputs": [],
   "source": [
    "import re\n",
    "def cleanhtml(sentence): #function to clean the word of any html-tags\n",
    "    cleanr = re.compile('<.*?>')\n",
    "    cleantext = re.sub(cleanr, ' ', sentence)\n",
    "    return cleantext\n",
    "def cleanpunc(sentence): #function to clean the word of any punctuation or special characters\n",
    "    cleaned = re.sub(r'[?|!|\\'|\"|#]',r'',sentence)\n",
    "    cleaned = re.sub(r'[.|,|)|(|\\|/]',r' ',cleaned)\n",
    "    return  cleaned"
   ]
  },
  {
   "cell_type": "code",
   "execution_count": 91,
   "metadata": {},
   "outputs": [],
   "source": [
    "# Train your own Word2Vec model using your own train text corpus\n",
    "import gensim\n",
    "list_of_sent=[]\n",
    "for sent in X_train:\n",
    "    filtered_sentence=[]\n",
    "    sent=cleanhtml(sent)\n",
    "    for w in sent.split():\n",
    "        for cleaned_words in cleanpunc(w).split():\n",
    "            if(cleaned_words.isalpha()):    \n",
    "                filtered_sentence.append(cleaned_words.lower())\n",
    "            else:\n",
    "                continue \n",
    "    list_of_sent.append(filtered_sentence)"
   ]
  },
  {
   "cell_type": "code",
   "execution_count": 92,
   "metadata": {},
   "outputs": [],
   "source": [
    "w2v_model_train = gensim.models.Word2Vec(list_of_sent, min_count = 5, size = 50, workers = 4)"
   ]
  },
  {
   "cell_type": "code",
   "execution_count": 93,
   "metadata": {},
   "outputs": [
    {
     "data": {
      "text/plain": [
       "[('prefer', 0.644690752029419),\n",
       " ('think', 0.6248317956924438),\n",
       " ('mean', 0.6054805517196655),\n",
       " ('crave', 0.590172529220581),\n",
       " ('awful', 0.5754127502441406),\n",
       " ('expect', 0.5612983703613281),\n",
       " ('enjoy', 0.5505330562591553),\n",
       " ('love', 0.5446635484695435),\n",
       " ('gross', 0.5442739725112915),\n",
       " ('miss', 0.544153094291687)]"
      ]
     },
     "execution_count": 93,
     "metadata": {},
     "output_type": "execute_result"
    }
   ],
   "source": [
    "w2v_model_train.wv.most_similar('like')"
   ]
  },
  {
   "cell_type": "code",
   "execution_count": 94,
   "metadata": {},
   "outputs": [],
   "source": [
    "w2v_train = w2v_model_train[w2v_model_train.wv.vocab]"
   ]
  },
  {
   "cell_type": "code",
   "execution_count": 95,
   "metadata": {},
   "outputs": [
    {
     "data": {
      "text/plain": [
       "(16156, 50)"
      ]
     },
     "execution_count": 95,
     "metadata": {},
     "output_type": "execute_result"
    }
   ],
   "source": [
    "w2v_train.shape"
   ]
  },
  {
   "cell_type": "code",
   "execution_count": 96,
   "metadata": {},
   "outputs": [],
   "source": [
    "# Train your own Word2Vec model using your own test text corpus\n",
    "import gensim\n",
    "list_of_sent_test = []\n",
    "for sent in x_test:\n",
    "    filtered_sentence=[]\n",
    "    sent=cleanhtml(sent)\n",
    "    for w in sent.split():\n",
    "        for cleaned_words in cleanpunc(w).split():\n",
    "            if(cleaned_words.isalpha()):    \n",
    "                filtered_sentence.append(cleaned_words.lower())\n",
    "            else:\n",
    "                continue \n",
    "    list_of_sent_test.append(filtered_sentence)"
   ]
  },
  {
   "cell_type": "code",
   "execution_count": 97,
   "metadata": {},
   "outputs": [],
   "source": [
    "w2v_model_test = gensim.models.Word2Vec(list_of_sent_test, min_count = 5, size = 50, workers = 4)"
   ]
  },
  {
   "cell_type": "code",
   "execution_count": 98,
   "metadata": {},
   "outputs": [
    {
     "data": {
      "text/plain": [
       "[('prefer', 0.6483543515205383),\n",
       " ('mean', 0.5963467359542847),\n",
       " ('think', 0.5807939767837524),\n",
       " ('dislike', 0.5591044425964355),\n",
       " ('fine', 0.5556191205978394),\n",
       " ('know', 0.5516791939735413),\n",
       " ('expect', 0.545376181602478),\n",
       " ('okay', 0.5443829894065857),\n",
       " ('miss', 0.5438836812973022),\n",
       " ('enjoy', 0.5287797451019287)]"
      ]
     },
     "execution_count": 98,
     "metadata": {},
     "output_type": "execute_result"
    }
   ],
   "source": [
    "w2v_model_test.wv.most_similar('like')"
   ]
  },
  {
   "cell_type": "code",
   "execution_count": 99,
   "metadata": {},
   "outputs": [],
   "source": [
    "w2v_test = w2v_model_test[w2v_model_test.wv.vocab]"
   ]
  },
  {
   "cell_type": "code",
   "execution_count": 100,
   "metadata": {},
   "outputs": [
    {
     "data": {
      "text/plain": [
       "(10801, 50)"
      ]
     },
     "execution_count": 100,
     "metadata": {},
     "output_type": "execute_result"
    }
   ],
   "source": [
    "w2v_test.shape"
   ]
  },
  {
   "cell_type": "markdown",
   "metadata": {},
   "source": [
    "# Average word2vec"
   ]
  },
  {
   "cell_type": "code",
   "execution_count": 101,
   "metadata": {},
   "outputs": [
    {
     "name": "stdout",
     "output_type": "stream",
     "text": [
      "70000\n",
      "50\n"
     ]
    }
   ],
   "source": [
    "# average Word2Vec\n",
    "# compute average word2vec for each review.\n",
    "sent_vectors = []; # the avg-w2v for each sentence/review is stored in this list\n",
    "for sent in list_of_sent: # for each review/sentence\n",
    "    sent_vec = np.zeros(50) # as word vectors are of zero length\n",
    "    cnt_words =0; # num of words with a valid vector in the sentence/review\n",
    "    for word in sent: # for each word in a review/sentence\n",
    "        try:\n",
    "            vec = w2v_model_train.wv[word]\n",
    "            sent_vec += vec\n",
    "            cnt_words += 1\n",
    "        except:\n",
    "            pass\n",
    "    sent_vec /= cnt_words\n",
    "    sent_vectors.append(sent_vec)\n",
    "print(len(sent_vectors))\n",
    "print(len(sent_vectors[0]))"
   ]
  },
  {
   "cell_type": "code",
   "execution_count": 102,
   "metadata": {},
   "outputs": [
    {
     "name": "stdout",
     "output_type": "stream",
     "text": [
      "30000\n",
      "50\n"
     ]
    }
   ],
   "source": [
    "# average Word2Vec\n",
    "# compute average word2vec for each review.\n",
    "sent_vectors_test = []; # the avg-w2v for each sentence/review is stored in this list\n",
    "for sent in list_of_sent_test: # for each review/sentence\n",
    "    sent_vec = np.zeros(50) # as word vectors are of zero length\n",
    "    cnt_words =0; # num of words with a valid vector in the sentence/review\n",
    "    for word in sent: # for each word in a review/sentence\n",
    "        try:\n",
    "            vec = w2v_model_test.wv[word]\n",
    "            sent_vec += vec\n",
    "            cnt_words += 1\n",
    "        except:\n",
    "            pass\n",
    "    sent_vec /= cnt_words\n",
    "    sent_vectors_test.append(sent_vec)\n",
    "print(len(sent_vectors_test))\n",
    "print(len(sent_vectors_test[0]))"
   ]
  },
  {
   "cell_type": "code",
   "execution_count": 103,
   "metadata": {},
   "outputs": [],
   "source": [
    "X_train = sent_vectors\n",
    "#X_train"
   ]
  },
  {
   "cell_type": "code",
   "execution_count": 104,
   "metadata": {},
   "outputs": [],
   "source": [
    "# Standardization \n",
    "from sklearn.preprocessing import StandardScaler\n",
    "scaler = StandardScaler(with_mean = False)\n",
    "std_X_train = scaler.fit_transform(X_train)"
   ]
  },
  {
   "cell_type": "code",
   "execution_count": 105,
   "metadata": {},
   "outputs": [],
   "source": [
    "x_test = sent_vectors_test\n",
    "#x_test"
   ]
  },
  {
   "cell_type": "code",
   "execution_count": 106,
   "metadata": {},
   "outputs": [],
   "source": [
    "scaler = StandardScaler(with_mean = False)\n",
    "std_x_test = scaler.fit_transform(x_test)"
   ]
  },
  {
   "cell_type": "code",
   "execution_count": 107,
   "metadata": {},
   "outputs": [
    {
     "name": "stdout",
     "output_type": "stream",
     "text": [
      "\n",
      "**********GridSearchCV**********\n",
      "\n",
      "\n",
      "Optimal C: 100\n",
      "\n",
      "Best penalty: l2\n"
     ]
    },
    {
     "data": {
      "image/png": "[encoded data removed]",
      "text/plain": [
       "<matplotlib.figure.Figure at 0x7435de8ef0>"
      ]
     },
     "metadata": {},
     "output_type": "display_data"
    },
    {
     "data": {
      "text/plain": [
       "100"
      ]
     },
     "execution_count": 107,
     "metadata": {},
     "output_type": "execute_result"
    }
   ],
   "source": [
    "# To choose optimal_alpha using nested cross validation\n",
    "#from sklearn.model_selection import KFold\n",
    "#from sklearn.model_selection import KFold\n",
    "optimal_lambda_avgw2v_grid = lr_grid_plot(std_X_train, y_train)\n",
    "optimal_lambda_avgw2v_grid"
   ]
  },
  {
   "cell_type": "code",
   "execution_count": 108,
   "metadata": {},
   "outputs": [],
   "source": [
    "# instantiate learning model \n",
    "lr_model =  LogisticRegression(penalty = 'l1', C = optimal_lambda_avgw2v_grid, class_weight = \"balanced\")\n",
    "# fitting the model\n",
    "lr_model.fit(std_X_train, y_train)\n",
    "# predict the response\n",
    "pred = lr_model.predict(std_x_test)\n",
    "# predict probablistic response\n",
    "pred_prob = lr_model.predict_proba(std_x_test)"
   ]
  },
  {
   "cell_type": "code",
   "execution_count": 109,
   "metadata": {},
   "outputs": [
    {
     "name": "stdout",
     "output_type": "stream",
     "text": [
      "Average precision score: 0.9378615600812116\n",
      "F1_score: 0.92657793044225\n",
      "Auc score: 0.9378585392667066\n"
     ]
    },
    {
     "data": {
      "image/png": "[encoded data removed]",
      "text/plain": [
       "<matplotlib.figure.Figure at 0x746fe16c50>"
      ]
     },
     "metadata": {},
     "output_type": "display_data"
    }
   ],
   "source": [
    "# F1-score, auc, precision_recall_curve\n",
    "from sklearn.metrics import f1_score, auc, precision_recall_curve, average_precision_score\n",
    "from sklearn.metrics import auc\n",
    "f1 = f1_score(y_test, pred)\n",
    "precision, recall, thresholds = precision_recall_curve(y_test, pred_prob[:,1])\n",
    "auc = auc(recall, precision)\n",
    "avg_precision = average_precision_score(y_test, pred_prob[:,1])\n",
    "print(\"Average precision score:\", avg_precision)\n",
    "print(\"F1_score:\", f1)\n",
    "print(\"Auc score:\",auc)\n",
    "plot_precision_recall_curve(recall, precision)"
   ]
  },
  {
   "cell_type": "code",
   "execution_count": 110,
   "metadata": {},
   "outputs": [
    {
     "name": "stdout",
     "output_type": "stream",
     "text": [
      "Train accuracy: 0.7982571428571429\n"
     ]
    }
   ],
   "source": [
    "train_acc_avgw2v_grid = lr_model.score(std_X_train, y_train)\n",
    "print(\"Train accuracy:\", train_acc_avgw2v_grid)"
   ]
  },
  {
   "cell_type": "code",
   "execution_count": 111,
   "metadata": {},
   "outputs": [
    {
     "name": "stdout",
     "output_type": "stream",
     "text": [
      "\n",
      "The accuracy of the logistic regression for c = 100.000000 is 86.32%\n"
     ]
    }
   ],
   "source": [
    "test_acc_avgw2v_grid = accuracy_score(y_test, pred) * 100\n",
    "print('\\nThe accuracy of the logistic regression for c = %f is %.2f%%' % (optimal_lambda_avgw2v_grid, test_acc_avgw2v_grid))"
   ]
  },
  {
   "cell_type": "code",
   "execution_count": 112,
   "metadata": {},
   "outputs": [
    {
     "data": {
      "text/plain": [
       "array([[    0,  4103],\n",
       "       [    1, 25896]], dtype=int64)"
      ]
     },
     "execution_count": 112,
     "metadata": {},
     "output_type": "execute_result"
    }
   ],
   "source": [
    "# Confusion Matrix\n",
    "from sklearn.metrics import confusion_matrix\n",
    "cm = confusion_matrix(y_test, pred)\n",
    "cm"
   ]
  },
  {
   "cell_type": "code",
   "execution_count": 113,
   "metadata": {},
   "outputs": [
    {
     "data": {
      "image/png": "[encoded data removed]",
      "text/plain": [
       "<matplotlib.figure.Figure at 0x7436d827f0>"
      ]
     },
     "metadata": {},
     "output_type": "display_data"
    }
   ],
   "source": [
    "# plot confusion matrix to describe the performance of classifier.\n",
    "import seaborn as sns\n",
    "class_label = [\"negative\", \"positive\"]\n",
    "df_cm = pd.DataFrame(cm, index = class_label, columns = class_label)\n",
    "sns.heatmap(df_cm, annot = True, fmt = \"d\")\n",
    "plt.title(\"Confusiion Matrix\")\n",
    "plt.xlabel(\"Predicted Label\")\n",
    "plt.ylabel(\"True Label\")\n",
    "plt.show()"
   ]
  },
  {
   "cell_type": "code",
   "execution_count": 114,
   "metadata": {},
   "outputs": [
    {
     "name": "stdout",
     "output_type": "stream",
     "text": [
      "              precision    recall  f1-score   support\n",
      "\n",
      "           0       0.00      0.00      0.00      4103\n",
      "           1       0.86      1.00      0.93     25897\n",
      "\n",
      "   micro avg       0.86      0.86      0.86     30000\n",
      "   macro avg       0.43      0.50      0.46     30000\n",
      "weighted avg       0.75      0.86      0.80     30000\n",
      "\n"
     ]
    }
   ],
   "source": [
    "# To show main classification report\n",
    "from sklearn.metrics import classification_report\n",
    "print(classification_report(y_test, pred))"
   ]
  },
  {
   "cell_type": "code",
   "execution_count": 115,
   "metadata": {},
   "outputs": [
    {
     "name": "stdout",
     "output_type": "stream",
     "text": [
      "\n",
      "\n",
      "**********RandomizedSearchCV**********\n",
      "\n",
      "\n",
      "Optimal C: 3.3331862167206348\n",
      "\n",
      "Best penalty: l2\n"
     ]
    },
    {
     "data": {
      "image/png": "[encoded data removed]",
      "text/plain": [
       "<matplotlib.figure.Figure at 0x74667b87b8>"
      ]
     },
     "metadata": {},
     "output_type": "display_data"
    },
    {
     "data": {
      "text/plain": [
       "3.3331862167206348"
      ]
     },
     "execution_count": 115,
     "metadata": {},
     "output_type": "execute_result"
    }
   ],
   "source": [
    "optimal_lambda_avgw2v_random = lr_random_plot(std_X_train, y_train)\n",
    "optimal_lambda_avgw2v_random"
   ]
  },
  {
   "cell_type": "code",
   "execution_count": 116,
   "metadata": {},
   "outputs": [],
   "source": [
    "# instantiate learning model \n",
    "lr_model =  LogisticRegression(penalty = 'l1', C = optimal_lambda_avgw2v_random, class_weight = \"balanced\")\n",
    "# fitting the model\n",
    "lr_model.fit(std_X_train, y_train)\n",
    "# predict the response\n",
    "pred = lr_model.predict(std_x_test)\n",
    "# predict probablistic response\n",
    "pred_prob = lr_model.predict_proba(std_x_test)"
   ]
  },
  {
   "cell_type": "code",
   "execution_count": 117,
   "metadata": {},
   "outputs": [
    {
     "name": "stdout",
     "output_type": "stream",
     "text": [
      "Average precision score: 0.9381061977940448\n",
      "F1_score: 0.92657793044225\n",
      "Auc score: 0.9381031945955676\n"
     ]
    },
    {
     "data": {
      "image/png": "[encoded data removed]",
      "text/plain": [
       "<matplotlib.figure.Figure at 0x74058248d0>"
      ]
     },
     "metadata": {},
     "output_type": "display_data"
    }
   ],
   "source": [
    "# F1-score, auc, precision_recall_curve\n",
    "from sklearn.metrics import f1_score, auc, precision_recall_curve, average_precision_score\n",
    "from sklearn.metrics import auc\n",
    "f1 = f1_score(y_test, pred)\n",
    "precision, recall, thresholds = precision_recall_curve(y_test, pred_prob[:,1])\n",
    "auc = auc(recall, precision)\n",
    "avg_precision = average_precision_score(y_test, pred_prob[:,1])\n",
    "print(\"Average precision score:\", avg_precision)\n",
    "print(\"F1_score:\", f1)\n",
    "print(\"Auc score:\", auc)\n",
    "plot_precision_recall_curve(recall, precision)"
   ]
  },
  {
   "cell_type": "code",
   "execution_count": 118,
   "metadata": {},
   "outputs": [
    {
     "name": "stdout",
     "output_type": "stream",
     "text": [
      "Train accuracy 0.7983857142857143\n"
     ]
    }
   ],
   "source": [
    "# Accuracy on train data\n",
    "train_acc_avgw2v_random = lr_model.score(std_X_train, y_train)\n",
    "print(\"Train accuracy\", train_acc_avgw2v_random)"
   ]
  },
  {
   "cell_type": "code",
   "execution_count": 119,
   "metadata": {},
   "outputs": [
    {
     "name": "stdout",
     "output_type": "stream",
     "text": [
      "\n",
      "The accuracy of the logistic regression for c = 3.333186 is 86.32%\n"
     ]
    }
   ],
   "source": [
    "test_acc_avgw2v_random = accuracy_score(y_test, pred) * 100\n",
    "print('\\nThe accuracy of the logistic regression for c = %f is %.2f%%' % (optimal_lambda_avgw2v_random, test_acc_avgw2v_random))"
   ]
  },
  {
   "cell_type": "code",
   "execution_count": 120,
   "metadata": {},
   "outputs": [
    {
     "data": {
      "text/plain": [
       "array([[    0,  4103],\n",
       "       [    1, 25896]], dtype=int64)"
      ]
     },
     "execution_count": 120,
     "metadata": {},
     "output_type": "execute_result"
    }
   ],
   "source": [
    "# Confusion Matrix\n",
    "from sklearn.metrics import confusion_matrix\n",
    "cm = confusion_matrix(y_test, pred)\n",
    "cm"
   ]
  },
  {
   "cell_type": "code",
   "execution_count": 121,
   "metadata": {},
   "outputs": [
    {
     "data": {
      "image/png": "[encoded data removed]",
      "text/plain": [
       "<matplotlib.figure.Figure at 0x74058def28>"
      ]
     },
     "metadata": {},
     "output_type": "display_data"
    }
   ],
   "source": [
    "# plot confusion matrix to describe the performance of classifier.\n",
    "import seaborn as sns\n",
    "class_label = [\"negative\", \"positive\"]\n",
    "df_cm = pd.DataFrame(cm, index = class_label, columns = class_label)\n",
    "sns.heatmap(df_cm, annot = True, fmt = \"d\")\n",
    "plt.title(\"Confusiion Matrix\")\n",
    "plt.xlabel(\"Predicted Label\")\n",
    "plt.ylabel(\"True Label\")\n",
    "plt.show()"
   ]
  },
  {
   "cell_type": "code",
   "execution_count": 122,
   "metadata": {},
   "outputs": [
    {
     "name": "stdout",
     "output_type": "stream",
     "text": [
      "              precision    recall  f1-score   support\n",
      "\n",
      "           0       0.00      0.00      0.00      4103\n",
      "           1       0.86      1.00      0.93     25897\n",
      "\n",
      "   micro avg       0.86      0.86      0.86     30000\n",
      "   macro avg       0.43      0.50      0.46     30000\n",
      "weighted avg       0.75      0.86      0.80     30000\n",
      "\n"
     ]
    }
   ],
   "source": [
    "# To show main classification report\n",
    "from sklearn.metrics import classification_report\n",
    "print(classification_report(y_test, pred))"
   ]
  },
  {
   "cell_type": "code",
   "execution_count": 123,
   "metadata": {},
   "outputs": [
    {
     "name": "stdout",
     "output_type": "stream",
     "text": [
      "\n",
      "C value: 10\n",
      "Coefficient of each feature: [[ 0.03975905 -0.09590719  0.35989163  0.72908844  0.64388973 -0.09121991\n",
      "  -0.9023972   0.53688893  0.73078622  0.89906832 -0.08646094 -0.11972015\n",
      "  -0.33271437  0.56159674 -0.26642071  0.87312717 -0.36335715 -0.37834897\n",
      "   0.09540617  0.78437738  0.11460528  0.38608337  0.08405536  0.06209608\n",
      "   1.14820815  0.06109586 -0.542622   -1.32974097  0.48510795  0.41917413\n",
      "   0.25941287 -0.33130008 -0.04003611  0.9313817  -0.05251753  0.61314233\n",
      "  -0.77189294 -0.49945089 -0.893888   -1.22729451  0.03424499 -0.60886939\n",
      "  -0.67647563  0.0559067   0.13721738  0.0096642  -0.12540648  0.27848162\n",
      "  -0.13576594  0.44520065]]\n",
      "Training accuracy: 79.836%\n",
      "Test accuracy: 86.320%\n",
      "Number of non-zero element:  50\n",
      "\n",
      "C value: 1\n",
      "Coefficient of each feature: [[ 0.04783758 -0.10276289  0.33778686  0.67760986  0.57237603 -0.07921165\n",
      "  -0.83498198  0.55217942  0.63632497  0.89875763 -0.08834517 -0.11218103\n",
      "  -0.25845046  0.4815474  -0.2630961   0.78845919 -0.34443412 -0.33461403\n",
      "   0.06970827  0.64463532  0.0927611   0.33140566  0.07172727  0.07980292\n",
      "   1.06993015  0.0827976  -0.49954229 -1.18388822  0.43806455  0.29946108\n",
      "   0.24115059 -0.29306452 -0.0333914   0.80762551 -0.00139128  0.59892271\n",
      "  -0.66691855 -0.55500318 -0.77023491 -1.12248615  0.02733939 -0.58965755\n",
      "  -0.5946299   0.01068938  0.1023886   0.02121031 -0.13436499  0.23315463\n",
      "  -0.11909101  0.36281931]]\n",
      "Training accuracy: 79.856%\n",
      "Test accuracy: 86.320%\n",
      "Number of non-zero element:  50\n",
      "\n",
      "C value: 0.1\n",
      "Coefficient of each feature: [[ 0.07630794 -0.12723346  0.25924516  0.49418323  0.31805756 -0.03706649\n",
      "  -0.59628389  0.60682565  0.30035785  0.89690587 -0.09559532 -0.08521537\n",
      "   0.00534047  0.19728359 -0.25059938  0.48758935 -0.27778491 -0.17966324\n",
      "  -0.02086907  0.1490183   0.0150949   0.13729281  0.02775717  0.14255129\n",
      "   0.7914268   0.16025252 -0.34744539 -0.66620945  0.27086824 -0.12541854\n",
      "   0.17621339 -0.15787937 -0.0099302   0.36710929  0.17998235  0.5489185\n",
      "  -0.29430651 -0.75306208 -0.33036349 -0.7496301   0.00227732 -0.52113651\n",
      "  -0.30326294 -0.14941251 -0.02162756  0.06339493 -0.16658934  0.0723801\n",
      "  -0.05937698  0.06990287]]\n",
      "Training accuracy: 79.909%\n",
      "Test accuracy: 86.417%\n",
      "Number of non-zero element:  50\n"
     ]
    }
   ],
   "source": [
    "# Tried different value of c and finding features weight\n",
    "# More Sparsity (Fewer elements of W* being non-zero) by increasing Lambda (decreasing C)\n",
    "C_param = [10, 1, 0.1]\n",
    "\n",
    "for c in C_param:\n",
    "    clf = LogisticRegression(penalty = 'l2', C = c, class_weight = \"balanced\")\n",
    "    clf.fit(std_X_train, y_train)\n",
    "    print('\\nC value:', c)\n",
    "    print('Coefficient of each feature:', clf.coef_)\n",
    "    print('Training accuracy: %0.3f%%' %(clf.score(std_X_train, y_train) * 100))\n",
    "    print('Test accuracy: %0.3f%%' %(clf.score(std_x_test, y_test) * 100))\n",
    "    print(\"Number of non-zero element: \",np.count_nonzero(clf.coef_))"
   ]
  },
  {
   "cell_type": "markdown",
   "metadata": {},
   "source": [
    "## Checking for multicollinearity using pertubation test"
   ]
  },
  {
   "cell_type": "code",
   "execution_count": 124,
   "metadata": {},
   "outputs": [
    {
     "name": "stdout",
     "output_type": "stream",
     "text": [
      "Accuracy score: 86.32%\n",
      "50\n"
     ]
    }
   ],
   "source": [
    "clf = LogisticRegression(penalty = 'l2', C = optimal_lambda_avgw2v_random, class_weight = \"balanced\")\n",
    "clf.fit(std_X_train, y_train)\n",
    "y_pred = clf.predict(std_x_test)\n",
    "print(\"Accuracy score: %0.2f%%\" %(accuracy_score(y_test, y_pred) * 100))\n",
    "print(np.count_nonzero(clf.coef_))"
   ]
  },
  {
   "cell_type": "code",
   "execution_count": 125,
   "metadata": {},
   "outputs": [
    {
     "data": {
      "text/plain": [
       "(70000, 50)"
      ]
     },
     "execution_count": 125,
     "metadata": {},
     "output_type": "execute_result"
    }
   ],
   "source": [
    "std_X_train.shape"
   ]
  },
  {
   "cell_type": "code",
   "execution_count": 126,
   "metadata": {},
   "outputs": [
    {
     "data": {
      "text/plain": [
       "50"
      ]
     },
     "execution_count": 126,
     "metadata": {},
     "output_type": "execute_result"
    }
   ],
   "source": [
    "np.count_nonzero(clf.coef_)"
   ]
  },
  {
   "cell_type": "code",
   "execution_count": 127,
   "metadata": {},
   "outputs": [
    {
     "name": "stdout",
     "output_type": "stream",
     "text": [
      "[ 0.04175409 -0.09758572  0.35438145  0.71629247  0.62612245 -0.08822091\n",
      " -0.88560311  0.54068596  0.70729962  0.89897384 -0.08692032 -0.11784467\n",
      " -0.31425953  0.54171487 -0.26559801  0.8520731  -0.35864598 -0.36746792\n",
      "  0.08900521  0.7495532   0.10918877  0.37247727  0.08098621  0.06652803\n",
      "  1.12869842  0.06647968 -0.53189024 -1.29346091  0.47335561  0.38938885\n",
      "  0.25485503 -0.3217782  -0.03840089  0.90058936 -0.03978172  0.60959582\n",
      " -0.74577745 -0.51322471 -0.8631214  -1.20122341  0.03251758 -0.60402908\n",
      " -0.65608871  0.04463329  0.12852276  0.01255453 -0.12761347  0.26722562\n",
      " -0.13160672  0.42471046]\n"
     ]
    }
   ],
   "source": [
    "from scipy.sparse import find\n",
    "\n",
    "# Before adding noise in data\n",
    "cf = clf.coef_[0]\n",
    "w_coef1 = cf[np.nonzero(cf)]\n",
    "print(w_coef1[:50])"
   ]
  },
  {
   "cell_type": "code",
   "execution_count": 128,
   "metadata": {},
   "outputs": [
    {
     "data": {
      "text/plain": [
       "(70000, 50)"
      ]
     },
     "execution_count": 128,
     "metadata": {},
     "output_type": "execute_result"
    }
   ],
   "source": [
    "# Generate random normal variable as a noise \n",
    "std_X_train_pert = std_X_train\n",
    "noise = np.random.normal(0, 0.001, size = (std_X_train_pert[np.nonzero(std_X_train_pert)].size,))\n",
    "#print(noise.shape)\n",
    "np.nonzero(std_X_train_pert)\n",
    "std_X_train_pert[np.nonzero(std_X_train_pert)] = noise + std_X_train_pert[np.nonzero(std_X_train_pert)]\n",
    "std_X_train_pert.shape"
   ]
  },
  {
   "cell_type": "code",
   "execution_count": 129,
   "metadata": {},
   "outputs": [
    {
     "data": {
      "text/plain": [
       "(70000, 50)"
      ]
     },
     "execution_count": 129,
     "metadata": {},
     "output_type": "execute_result"
    }
   ],
   "source": [
    "std_X_train_pert.shape"
   ]
  },
  {
   "cell_type": "code",
   "execution_count": 130,
   "metadata": {},
   "outputs": [
    {
     "name": "stdout",
     "output_type": "stream",
     "text": [
      "Accuracy score: 86.32%\n",
      "50\n"
     ]
    }
   ],
   "source": [
    "clf = LogisticRegression(penalty = 'l2', C = optimal_lambda_avgw2v_random, class_weight = \"balanced\")\n",
    "clf.fit(std_X_train_pert, y_train)\n",
    "y_pred = clf.predict(std_x_test)\n",
    "print(\"Accuracy score: %0.2f%%\" %(accuracy_score(y_test, y_pred) * 100))\n",
    "print(np.count_nonzero(clf.coef_))"
   ]
  },
  {
   "cell_type": "code",
   "execution_count": 131,
   "metadata": {},
   "outputs": [
    {
     "name": "stdout",
     "output_type": "stream",
     "text": [
      "[ 0.04175496 -0.09751782  0.35459062  0.71659825  0.62668325 -0.08832716\n",
      " -0.8862377   0.54072445  0.70787276  0.89878991 -0.08697709 -0.11781463\n",
      " -0.31481862  0.54215807 -0.26575125  0.8528148  -0.35885065 -0.3678493\n",
      "  0.08927401  0.75057997  0.10935904  0.37287108  0.08112748  0.06624255\n",
      "  1.12932859  0.06647624 -0.53225697 -1.29449484  0.4736887   0.39033984\n",
      "  0.25512032 -0.3221657  -0.03849367  0.90153136 -0.04024499  0.60971881\n",
      " -0.74648091 -0.51277534 -0.86405135 -1.20201559  0.03263782 -0.60432811\n",
      " -0.65667993  0.04499669  0.12881498  0.01239539 -0.1274254   0.26745978\n",
      " -0.13171124  0.42534591]\n"
     ]
    }
   ],
   "source": [
    "cf = clf.coef_[0]\n",
    "w_coef2 = cf[np.nonzero(cf)]\n",
    "print(w_coef2[:50])"
   ]
  },
  {
   "cell_type": "code",
   "execution_count": 132,
   "metadata": {},
   "outputs": [
    {
     "name": "stdout",
     "output_type": "stream",
     "text": [
      "No of weights that changes more than 40% is: 0\n"
     ]
    }
   ],
   "source": [
    "# Calculate %increase \n",
    "cnt = 0\n",
    "for w1, w2 in zip(w_coef1, w_coef2):\n",
    "    inc = (abs(w1 - w2)/abs(w2)) * 100\n",
    "    if inc > 40:\n",
    "        cnt += 1\n",
    "print(\"No of weights that changes more than 40% is:\", cnt)"
   ]
  },
  {
   "cell_type": "markdown",
   "metadata": {},
   "source": [
    "**Observations**\n",
    "1. When used accuracy as performance measure we get train accuracy is low whereas test accuracy is high. It could so happen that model is underfitting.\n",
    "2. Generalizaion error for this model is high and does not works well for both grid search and random search. \n",
    "3. Using pertubation technique we found that there is no multicollinearity.\n",
    "4. As we know w2v can give you 50,100,150,200 etc dimension vector for a given word, using avg w2v we get word vector for sentences. So, As we can not compare which word has highest value ,we can not get which feature is importance."
   ]
  },
  {
   "cell_type": "markdown",
   "metadata": {},
   "source": [
    "# TFIDF Word2Vec"
   ]
  },
  {
   "cell_type": "code",
   "execution_count": 133,
   "metadata": {},
   "outputs": [],
   "source": [
    "# TF-IDF weighted Word2Vec\n",
    "tfidf_feat = tf_idf_vect.get_feature_names() # tfidf words/col-names\n",
    "# final_tf_idf is the sparse matrix with row= sentence, col=word and cell_val = tfidf\n",
    "\n",
    "tfidf_sent_vectors = [] # the tfidf-w2v for each sentence/review is stored in this list\n",
    "row=0\n",
    "for sent in list_of_sent: # for each review/sentence\n",
    "    sent_vec = np.zeros(50) # as word vectors are of zero length\n",
    "    weight_sum =0 # num of words with a valid vector in the sentence/review\n",
    "    for word in sent: # for each word in a review/sentence\n",
    "        try:\n",
    "            vec = w2v_model_train.wv[word]\n",
    "            # obtain the tf_idfidf of a word in a sentence/review\n",
    "            tf_idf = X_trn[row, tfidf_feat.index(word)]\n",
    "            sent_vec += (vec * tf_idf)\n",
    "            weight_sum += tf_idf\n",
    "        except:\n",
    "            pass\n",
    "    sent_vec /= weight_sum\n",
    "    tfidf_sent_vectors.append(sent_vec)\n",
    "    row += 1"
   ]
  },
  {
   "cell_type": "code",
   "execution_count": 134,
   "metadata": {},
   "outputs": [
    {
     "data": {
      "text/plain": [
       "70000"
      ]
     },
     "execution_count": 134,
     "metadata": {},
     "output_type": "execute_result"
    }
   ],
   "source": [
    "len(tfidf_sent_vectors)"
   ]
  },
  {
   "cell_type": "code",
   "execution_count": 135,
   "metadata": {},
   "outputs": [],
   "source": [
    "X_train = tfidf_sent_vectors"
   ]
  },
  {
   "cell_type": "code",
   "execution_count": 136,
   "metadata": {},
   "outputs": [],
   "source": [
    "# TF-IDF weighted Word2Vec\n",
    "tfidf_feat = tf_idf_vect.get_feature_names() # tfidf words/col-names\n",
    "# final_tf_idf is the sparse matrix with row= sentence, col=word and cell_val = tfidf\n",
    "\n",
    "tfidf_sent_vectors_test = []; # the tfidf-w2v for each sentence/review is stored in this list\n",
    "row=0;\n",
    "for sent in list_of_sent_test: # for each review/sentence\n",
    "    sent_vec = np.zeros(50) # as word vectors are of zero length\n",
    "    weight_sum =0; # num of words with a valid vector in the sentence/review\n",
    "    for word in sent: # for each word in a review/sentence\n",
    "        try:\n",
    "            vec = w2v_model_test.wv[word]\n",
    "            # obtain the tf_idfidf of a word in a sentence/review\n",
    "            tfidf = x_tst[row, tfidf_feat.index(word)]\n",
    "            sent_vec += (vec * tfidf)\n",
    "            weight_sum += tfidf\n",
    "        except:\n",
    "            pass\n",
    "    sent_vec /= weight_sum\n",
    "    tfidf_sent_vectors_test.append(sent_vec)\n",
    "    row += 1"
   ]
  },
  {
   "cell_type": "code",
   "execution_count": 137,
   "metadata": {},
   "outputs": [
    {
     "data": {
      "text/plain": [
       "30000"
      ]
     },
     "execution_count": 137,
     "metadata": {},
     "output_type": "execute_result"
    }
   ],
   "source": [
    "len(tfidf_sent_vectors_test)"
   ]
  },
  {
   "cell_type": "code",
   "execution_count": 138,
   "metadata": {},
   "outputs": [],
   "source": [
    "x_test = tfidf_sent_vectors_test"
   ]
  },
  {
   "cell_type": "code",
   "execution_count": 147,
   "metadata": {},
   "outputs": [],
   "source": [
    "X_train = np.nan_to_num(X_train)"
   ]
  },
  {
   "cell_type": "code",
   "execution_count": 150,
   "metadata": {},
   "outputs": [],
   "source": [
    "# Standardization \n",
    "from sklearn.preprocessing import StandardScaler\n",
    "scaler = StandardScaler(with_mean = False)\n",
    "std_X_train = scaler.fit_transform(X_train)"
   ]
  },
  {
   "cell_type": "code",
   "execution_count": 151,
   "metadata": {},
   "outputs": [
    {
     "data": {
      "text/plain": [
       "(70000, 50)"
      ]
     },
     "execution_count": 151,
     "metadata": {},
     "output_type": "execute_result"
    }
   ],
   "source": [
    "std_X_train.shape"
   ]
  },
  {
   "cell_type": "code",
   "execution_count": 152,
   "metadata": {},
   "outputs": [],
   "source": [
    "x_test = np.nan_to_num(x_test)"
   ]
  },
  {
   "cell_type": "code",
   "execution_count": 153,
   "metadata": {},
   "outputs": [],
   "source": [
    "scaler = StandardScaler(with_mean = False)\n",
    "std_x_test = scaler.fit_transform(x_test)"
   ]
  },
  {
   "cell_type": "code",
   "execution_count": 154,
   "metadata": {},
   "outputs": [
    {
     "data": {
      "text/plain": [
       "(30000, 50)"
      ]
     },
     "execution_count": 154,
     "metadata": {},
     "output_type": "execute_result"
    }
   ],
   "source": [
    "std_x_test.shape"
   ]
  },
  {
   "cell_type": "code",
   "execution_count": 155,
   "metadata": {},
   "outputs": [
    {
     "name": "stdout",
     "output_type": "stream",
     "text": [
      "\n",
      "**********GridSearchCV**********\n",
      "\n",
      "\n",
      "Optimal C: 0.01\n",
      "\n",
      "Best penalty: l2\n"
     ]
    },
    {
     "data": {
      "image/png": "[encoded data removed]",
      "text/plain": [
       "<matplotlib.figure.Figure at 0x74059e4eb8>"
      ]
     },
     "metadata": {},
     "output_type": "display_data"
    },
    {
     "data": {
      "text/plain": [
       "0.01"
      ]
     },
     "execution_count": 155,
     "metadata": {},
     "output_type": "execute_result"
    }
   ],
   "source": [
    "# To choose optimal_alpha using nested cross validation\n",
    "optimal_lambda_tfidfw2v_grid = lr_grid_plot(std_X_train, y_train)\n",
    "optimal_lambda_tfidfw2v_grid"
   ]
  },
  {
   "cell_type": "code",
   "execution_count": 156,
   "metadata": {},
   "outputs": [],
   "source": [
    "# instantiate learning model \n",
    "lr_model =  LogisticRegression(penalty = 'l2', C = optimal_lambda_tfidfw2v_grid, class_weight = \"balanced\")\n",
    "# fitting the model\n",
    "lr_model.fit(std_X_train, y_train)\n",
    "# predict the response\n",
    "pred = lr_model.predict(std_x_test)\n",
    "# predict probablistic response\n",
    "pred_prob = lr_model.predict_proba(std_x_test)"
   ]
  },
  {
   "cell_type": "code",
   "execution_count": 164,
   "metadata": {},
   "outputs": [
    {
     "name": "stdout",
     "output_type": "stream",
     "text": [
      "Average precision score: 0.9440371854956844\n",
      "F1_score: 0.920242459973838\n",
      "Auc score: 0.9440336196904263\n"
     ]
    },
    {
     "data": {
      "image/png": "[encoded data removed]",
      "text/plain": [
       "<matplotlib.figure.Figure at 0x740da8c630>"
      ]
     },
     "metadata": {},
     "output_type": "display_data"
    }
   ],
   "source": [
    "# F1-score, auc, precision_recall_curve\n",
    "from sklearn.metrics import f1_score, auc, precision_recall_curve, average_precision_score\n",
    "from sklearn.metrics import auc\n",
    "f1 = f1_score(y_test, pred)\n",
    "precision, recall, thresholds = precision_recall_curve(y_test, pred_prob[:,1])\n",
    "auc = auc(recall, precision)\n",
    "avg_precision = average_precision_score(y_test, pred_prob[:,1])\n",
    "print(\"Average precision score:\", avg_precision)\n",
    "print(\"F1_score:\", f1)\n",
    "print(\"Auc score:\",auc)\n",
    "plot_precision_recall_curve(recall, precision)"
   ]
  },
  {
   "cell_type": "code",
   "execution_count": 165,
   "metadata": {},
   "outputs": [
    {
     "name": "stdout",
     "output_type": "stream",
     "text": [
      "Train accuracy 0.7316571428571429\n"
     ]
    }
   ],
   "source": [
    "# Accuracy on train data\n",
    "train_acc_tfidfw2v_grid = lr_model.score(std_X_train, y_train)\n",
    "print(\"Train accuracy\", train_acc_tfidfw2v_grid)"
   ]
  },
  {
   "cell_type": "code",
   "execution_count": 166,
   "metadata": {},
   "outputs": [
    {
     "name": "stdout",
     "output_type": "stream",
     "text": [
      "\n",
      "The accuracy of the logistic regression for c = 0.010 is 85.570000%\n"
     ]
    }
   ],
   "source": [
    "test_acc_tfidfw2v_grid = accuracy_score(y_test, pred) * 100\n",
    "print('\\nThe accuracy of the logistic regression for c = %0.3f is %f%%' % (optimal_lambda_tfidfw2v_grid, test_acc_tfidfw2v_grid))"
   ]
  },
  {
   "cell_type": "code",
   "execution_count": 167,
   "metadata": {},
   "outputs": [
    {
     "data": {
      "text/plain": [
       "array([[  697,  3406],\n",
       "       [  923, 24974]], dtype=int64)"
      ]
     },
     "execution_count": 167,
     "metadata": {},
     "output_type": "execute_result"
    }
   ],
   "source": [
    "# Confusion Matrix\n",
    "from sklearn.metrics import confusion_matrix\n",
    "cm = confusion_matrix(y_test, pred)\n",
    "cm"
   ]
  },
  {
   "cell_type": "code",
   "execution_count": 169,
   "metadata": {},
   "outputs": [
    {
     "data": {
      "image/png": "[encoded data removed]",
      "text/plain": [
       "<matplotlib.figure.Figure at 0x7409da2908>"
      ]
     },
     "metadata": {},
     "output_type": "display_data"
    }
   ],
   "source": [
    "# plot confusion matrix to describe the performance of classifier.\n",
    "import seaborn as sns\n",
    "class_label = [\"negative\", \"positive\"]\n",
    "df_cm = pd.DataFrame(cm, index = class_label, columns = class_label)\n",
    "sns.heatmap(df_cm, annot = True, fmt = \"d\")\n",
    "plt.title(\"Confusiion Matrix\")\n",
    "plt.xlabel(\"Predicted Label\")\n",
    "plt.ylabel(\"True Label\")\n",
    "plt.show()"
   ]
  },
  {
   "cell_type": "code",
   "execution_count": 170,
   "metadata": {},
   "outputs": [
    {
     "name": "stdout",
     "output_type": "stream",
     "text": [
      "              precision    recall  f1-score   support\n",
      "\n",
      "           0       0.43      0.17      0.24      4103\n",
      "           1       0.88      0.96      0.92     25897\n",
      "\n",
      "   micro avg       0.86      0.86      0.86     30000\n",
      "   macro avg       0.66      0.57      0.58     30000\n",
      "weighted avg       0.82      0.86      0.83     30000\n",
      "\n"
     ]
    }
   ],
   "source": [
    "# To show main classification report\n",
    "from sklearn.metrics import classification_report\n",
    "print(classification_report(y_test, pred))"
   ]
  },
  {
   "cell_type": "code",
   "execution_count": 171,
   "metadata": {},
   "outputs": [
    {
     "name": "stdout",
     "output_type": "stream",
     "text": [
      "\n",
      "\n",
      "**********RandomizedSearchCV**********\n",
      "\n",
      "\n",
      "Optimal C: 3.1052037226141174\n",
      "\n",
      "Best penalty: l1\n"
     ]
    },
    {
     "data": {
      "image/png": "[encoded data removed]",
      "text/plain": [
       "<matplotlib.figure.Figure at 0x7409dc29e8>"
      ]
     },
     "metadata": {},
     "output_type": "display_data"
    },
    {
     "data": {
      "text/plain": [
       "3.1052037226141174"
      ]
     },
     "execution_count": 171,
     "metadata": {},
     "output_type": "execute_result"
    }
   ],
   "source": [
    "optimal_lambda_tfidfw2v_random = lr_random_plot(std_X_train, y_train)\n",
    "optimal_lambda_tfidfw2v_random"
   ]
  },
  {
   "cell_type": "code",
   "execution_count": 172,
   "metadata": {},
   "outputs": [],
   "source": [
    "# instantiate learning model \n",
    "lr_model =  LogisticRegression(penalty = 'l1', C = optimal_lambda_tfidfw2v_random, class_weight = \"balanced\")\n",
    "# fitting the model\n",
    "lr_model.fit(std_X_train, y_train)\n",
    "# predict the response\n",
    "pred = lr_model.predict(std_x_test)\n",
    "# predict probablistic response\n",
    "pred_prob = lr_model.predict_proba(std_x_test)"
   ]
  },
  {
   "cell_type": "code",
   "execution_count": 174,
   "metadata": {},
   "outputs": [
    {
     "name": "stdout",
     "output_type": "stream",
     "text": [
      "Average precision score: 0.9403896419288639\n",
      "F1_score: 0.926059123930087\n",
      "Auc score: 0.9403860106315642\n"
     ]
    },
    {
     "data": {
      "image/png": "[encoded data removed]",
      "text/plain": [
       "<matplotlib.figure.Figure at 0x741bf52f60>"
      ]
     },
     "metadata": {},
     "output_type": "display_data"
    }
   ],
   "source": [
    "# F1-score, auc, precision_recall_curve\n",
    "from sklearn.metrics import f1_score, auc, precision_recall_curve, average_precision_score\n",
    "from sklearn.metrics import auc\n",
    "f1 = f1_score(y_test, pred)\n",
    "precision, recall, thresholds = precision_recall_curve(y_test, pred_prob[:,1])\n",
    "auc = auc(recall, precision)\n",
    "avg_precision = average_precision_score(y_test, pred_prob[:,1])\n",
    "print(\"Average precision score:\", avg_precision)\n",
    "print(\"F1_score:\", f1)\n",
    "print(\"Auc score:\",auc)\n",
    "plot_precision_recall_curve(recall, precision)"
   ]
  },
  {
   "cell_type": "code",
   "execution_count": 175,
   "metadata": {},
   "outputs": [
    {
     "name": "stdout",
     "output_type": "stream",
     "text": [
      "Train accuracy 0.7292\n"
     ]
    }
   ],
   "source": [
    "# Accuracy on train data\n",
    "train_acc_tfidfw2v_random = lr_model.score(std_X_train, y_train)\n",
    "print(\"Train accuracy\", train_acc_tfidfw2v_random)"
   ]
  },
  {
   "cell_type": "code",
   "execution_count": 176,
   "metadata": {},
   "outputs": [
    {
     "name": "stdout",
     "output_type": "stream",
     "text": [
      "\n",
      "The accuracy of the logistic regression for c = 3.105204 is 86.29%\n"
     ]
    }
   ],
   "source": [
    "test_acc_tfidfw2v_random = accuracy_score(y_test, pred) * 100\n",
    "print('\\nThe accuracy of the logistic regression for c = %f is %.2f%%' % (optimal_lambda_tfidfw2v_random, test_acc_tfidfw2v_random))"
   ]
  },
  {
   "cell_type": "code",
   "execution_count": 177,
   "metadata": {},
   "outputs": [
    {
     "data": {
      "text/plain": [
       "array([[  138,  3965],\n",
       "       [  147, 25750]], dtype=int64)"
      ]
     },
     "execution_count": 177,
     "metadata": {},
     "output_type": "execute_result"
    }
   ],
   "source": [
    "# Confusion Matrix\n",
    "from sklearn.metrics import confusion_matrix\n",
    "cm = confusion_matrix(y_test, pred)\n",
    "cm"
   ]
  },
  {
   "cell_type": "code",
   "execution_count": 178,
   "metadata": {},
   "outputs": [
    {
     "data": {
      "image/png": "[encoded data removed]",
      "text/plain": [
       "<matplotlib.figure.Figure at 0x740592ba58>"
      ]
     },
     "metadata": {},
     "output_type": "display_data"
    }
   ],
   "source": [
    "# plot confusion matrix to describe the performance of classifier.\n",
    "import seaborn as sns\n",
    "class_label = [\"negative\", \"positive\"]\n",
    "df_cm = pd.DataFrame(cm, index = class_label, columns = class_label)\n",
    "sns.heatmap(df_cm, annot = True, fmt = \"d\")\n",
    "plt.title(\"Confusiion Matrix\")\n",
    "plt.xlabel(\"Predicted Label\")\n",
    "plt.ylabel(\"True Label\")\n",
    "plt.show()"
   ]
  },
  {
   "cell_type": "code",
   "execution_count": 179,
   "metadata": {},
   "outputs": [
    {
     "name": "stdout",
     "output_type": "stream",
     "text": [
      "              precision    recall  f1-score   support\n",
      "\n",
      "           0       0.48      0.03      0.06      4103\n",
      "           1       0.87      0.99      0.93     25897\n",
      "\n",
      "   micro avg       0.86      0.86      0.86     30000\n",
      "   macro avg       0.68      0.51      0.49     30000\n",
      "weighted avg       0.81      0.86      0.81     30000\n",
      "\n"
     ]
    }
   ],
   "source": [
    "# To show main classification report\n",
    "from sklearn.metrics import classification_report\n",
    "print(classification_report(y_test, pred))"
   ]
  },
  {
   "cell_type": "code",
   "execution_count": 180,
   "metadata": {},
   "outputs": [
    {
     "name": "stdout",
     "output_type": "stream",
     "text": [
      "\n",
      "C value: 10\n",
      "Coefficient of each feature: [[-0.08078395 -0.15312764  0.30609337  0.75460852  0.35038517  0.02226248\n",
      "  -0.51875463  0.50497443  0.2997992   0.57905648 -0.05519565 -0.12383712\n",
      "  -0.09245356  0.54985655 -0.23304295  0.71647798 -0.72565228 -0.11711424\n",
      "   0.23995611  0.41193655  0.00298065  0.41555562 -0.1756367  -0.12277071\n",
      "   0.75615105  0.37168642 -0.54256688 -0.83584879  0.40555371  0.15468393\n",
      "   0.02066725 -0.39348564 -0.41652301  0.63511572  0.16875294  0.31399705\n",
      "  -0.5748793  -0.53384756 -0.07274192 -0.74184894  0.02348744 -0.34275787\n",
      "  -0.32964473  0.03531761  0.09517957  0.02959366 -0.17198364  0.09823722\n",
      "  -0.15915811  0.23186323]]\n",
      "Training accuracy: 88.640%\n",
      "Test accuracy: 86.323%\n",
      "Number of non-zero element:  50\n",
      "\n",
      "C value: 1\n",
      "Coefficient of each feature: [[-0.07493706 -0.15843602  0.30049515  0.7331963   0.32576316  0.02612826\n",
      "  -0.48595342  0.5132601   0.26909086  0.57773457 -0.0589813  -0.1182941\n",
      "  -0.06688607  0.52097666 -0.22761179  0.68699714 -0.71808737 -0.09833176\n",
      "   0.23096012  0.36463315 -0.00488163  0.39267923 -0.17839327 -0.11270777\n",
      "   0.73032569  0.37821752 -0.52947456 -0.78377274  0.39052041  0.12201971\n",
      "   0.00928415 -0.37836629 -0.41525431  0.58890872  0.1821618   0.30681298\n",
      "  -0.54296094 -0.55198342 -0.03175382 -0.7018657   0.02221828 -0.33699382\n",
      "  -0.29821544  0.02453584  0.08282228  0.03281424 -0.17479587  0.08350077\n",
      "  -0.15123495  0.2048178 ]]\n",
      "Training accuracy: 88.644%\n",
      "Test accuracy: 86.330%\n",
      "Number of non-zero element:  50\n",
      "\n",
      "C value: 0.1\n",
      "Coefficient of each feature: [[-0.02263077 -0.18047998  0.27786187  0.6169775   0.1904991   0.04460776\n",
      "  -0.30797692  0.55823268  0.10104706  0.56191486 -0.07645495 -0.09200702\n",
      "   0.05436944  0.35562203 -0.19229445  0.52138807 -0.66765194  0.\n",
      "   0.179839    0.11304004 -0.03973192  0.27395723 -0.19034663 -0.05855108\n",
      "   0.58966425  0.40214444 -0.46249621 -0.50159128  0.31109904 -0.03034686\n",
      "  -0.03076401 -0.30165186 -0.40230509  0.32575853  0.24355174  0.26914379\n",
      "  -0.37234212 -0.65358918  0.17033306 -0.49225363  0.0157719  -0.29499576\n",
      "  -0.13345883 -0.01143595  0.01281979  0.05328267 -0.18863547  0.00396423\n",
      "  -0.09772935  0.05405997]]\n",
      "Training accuracy: 88.613%\n",
      "Test accuracy: 86.317%\n",
      "Number of non-zero element:  49\n"
     ]
    }
   ],
   "source": [
    "# Tried different value of c and finding features weight\n",
    "# More Sparsity (Fewer elements of W* being non-zero) by increasing Lambda (decreasing C)\n",
    "C_param = [10, 1, 0.1]\n",
    "\n",
    "for c in C_param:\n",
    "    clf = LogisticRegression(penalty='l1', C = c)\n",
    "    clf.fit(X_train, y_train)\n",
    "    print('\\nC value:', c)\n",
    "    print('Coefficient of each feature:', clf.coef_)\n",
    "    print('Training accuracy: %0.3f%%' %(clf.score(std_X_train, y_train) * 100))\n",
    "    print('Test accuracy: %0.3f%%' %(clf.score(std_x_test, y_test) * 100))\n",
    "    print(\"Number of non-zero element: \",np.count_nonzero(clf.coef_))"
   ]
  },
  {
   "cell_type": "markdown",
   "metadata": {},
   "source": [
    "## Checking for multicollinearity using pertubation test"
   ]
  },
  {
   "cell_type": "code",
   "execution_count": 181,
   "metadata": {},
   "outputs": [
    {
     "name": "stdout",
     "output_type": "stream",
     "text": [
      "Accuracy score: 86.32%\n",
      "50\n"
     ]
    }
   ],
   "source": [
    "clf = LogisticRegression(penalty='l1', C = optimal_lambda_tfidfw2v_random)\n",
    "clf.fit(std_X_train, y_train)\n",
    "y_pred = clf.predict(std_x_test)\n",
    "print(\"Accuracy score: %0.2f%%\" %(accuracy_score(y_test, y_pred) * 100))\n",
    "print(np.count_nonzero(clf.coef_))"
   ]
  },
  {
   "cell_type": "code",
   "execution_count": 182,
   "metadata": {},
   "outputs": [
    {
     "data": {
      "text/plain": [
       "(70000, 50)"
      ]
     },
     "execution_count": 182,
     "metadata": {},
     "output_type": "execute_result"
    }
   ],
   "source": [
    "std_X_train.shape"
   ]
  },
  {
   "cell_type": "code",
   "execution_count": 183,
   "metadata": {},
   "outputs": [
    {
     "data": {
      "text/plain": [
       "50"
      ]
     },
     "execution_count": 183,
     "metadata": {},
     "output_type": "execute_result"
    }
   ],
   "source": [
    "np.count_nonzero(clf.coef_)"
   ]
  },
  {
   "cell_type": "code",
   "execution_count": 184,
   "metadata": {},
   "outputs": [
    {
     "name": "stdout",
     "output_type": "stream",
     "text": [
      "[-0.04796088 -0.10614419  0.21895483  0.46495007  0.21899935  0.01393453\n",
      " -0.30668273  0.32939427  0.17405134  0.39786838 -0.03820991 -0.09833356\n",
      " -0.08005614  0.31422891 -0.14979487  0.5142251  -0.47269613 -0.07920646\n",
      "  0.16074862  0.24630429  0.00132531  0.25939239 -0.11201208 -0.08392959\n",
      "  0.54236281  0.22007347 -0.42000632 -0.58653199  0.29643264  0.11893537\n",
      "  0.01320982 -0.25858581 -0.37882378  0.39139832  0.15363631  0.2248318\n",
      " -0.39205912 -0.37542417 -0.05420918 -0.46173828  0.01756934 -0.27171288\n",
      " -0.21157901  0.02547252  0.07289098  0.02349362 -0.12505278  0.06984525\n",
      " -0.09265388  0.16248885]\n"
     ]
    }
   ],
   "source": [
    "from scipy.sparse import find\n",
    "\n",
    "# Before adding noise in data\n",
    "cf = clf.coef_[0]\n",
    "w_coef1 = cf[np.nonzero(cf)]\n",
    "print(w_coef1[:50])"
   ]
  },
  {
   "cell_type": "code",
   "execution_count": 185,
   "metadata": {},
   "outputs": [
    {
     "data": {
      "text/plain": [
       "(70000, 50)"
      ]
     },
     "execution_count": 185,
     "metadata": {},
     "output_type": "execute_result"
    }
   ],
   "source": [
    "# Generate random normal variable as a noise \n",
    "std_X_train_pert = std_X_train\n",
    "noise = np.random.normal(0, 0.001, size = (std_X_train_pert[np.nonzero(std_X_train_pert)].size,))\n",
    "np.nonzero(std_X_train_pert)\n",
    "std_X_train_pert[np.nonzero(std_X_train_pert)] = noise + std_X_train_pert[np.nonzero(std_X_train_pert)]\n",
    "std_X_train_pert.shape"
   ]
  },
  {
   "cell_type": "code",
   "execution_count": 186,
   "metadata": {},
   "outputs": [
    {
     "data": {
      "text/plain": [
       "(70000, 50)"
      ]
     },
     "execution_count": 186,
     "metadata": {},
     "output_type": "execute_result"
    }
   ],
   "source": [
    "# Generate random normal variable as a noise \n",
    "std_X_train_pert = std_X_train\n",
    "noise = np.random.normal(0, 0.001, size = (std_X_train_pert[np.nonzero(std_X_train_pert)].size,))\n",
    "np.nonzero(std_X_train_pert)\n",
    "std_X_train_pert[np.nonzero(std_X_train_pert)] = noise + std_X_train_pert[np.nonzero(std_X_train_pert)]\n",
    "std_X_train_pert.shape"
   ]
  },
  {
   "cell_type": "code",
   "execution_count": 187,
   "metadata": {},
   "outputs": [
    {
     "data": {
      "text/plain": [
       "(70000, 50)"
      ]
     },
     "execution_count": 187,
     "metadata": {},
     "output_type": "execute_result"
    }
   ],
   "source": [
    "std_X_train_pert.shape"
   ]
  },
  {
   "cell_type": "code",
   "execution_count": 188,
   "metadata": {},
   "outputs": [
    {
     "name": "stdout",
     "output_type": "stream",
     "text": [
      "Accuracy score: 86.32%\n",
      "50\n"
     ]
    }
   ],
   "source": [
    "clf = LogisticRegression(penalty='l1', C = optimal_lambda_tfidfw2v_random)\n",
    "clf.fit(std_X_train_pert, y_train)\n",
    "y_pred = clf.predict(x_test)\n",
    "print(\"Accuracy score: %0.2f%%\" %(accuracy_score(y_test, y_pred) * 100))\n",
    "print(np.count_nonzero(clf.coef_))"
   ]
  },
  {
   "cell_type": "code",
   "execution_count": 189,
   "metadata": {},
   "outputs": [
    {
     "name": "stdout",
     "output_type": "stream",
     "text": [
      "[ 0.04175496 -0.09751782  0.35459062  0.71659825  0.62668325 -0.08832716\n",
      " -0.8862377   0.54072445  0.70787276  0.89878991 -0.08697709 -0.11781463\n",
      " -0.31481862  0.54215807 -0.26575125  0.8528148  -0.35885065 -0.3678493\n",
      "  0.08927401  0.75057997  0.10935904  0.37287108  0.08112748  0.06624255\n",
      "  1.12932859  0.06647624 -0.53225697 -1.29449484  0.4736887   0.39033984\n",
      "  0.25512032 -0.3221657  -0.03849367  0.90153136 -0.04024499  0.60971881\n",
      " -0.74648091 -0.51277534 -0.86405135 -1.20201559  0.03263782 -0.60432811\n",
      " -0.65667993  0.04499669  0.12881498  0.01239539 -0.1274254   0.26745978\n",
      " -0.13171124  0.42534591]\n"
     ]
    }
   ],
   "source": [
    "cf = clf.coef_[0]\n",
    "w_coef1 = cf[np.nonzero(cf)]\n",
    "print(w_coef2[:50])"
   ]
  },
  {
   "cell_type": "code",
   "execution_count": 190,
   "metadata": {},
   "outputs": [
    {
     "name": "stdout",
     "output_type": "stream",
     "text": [
      "No of weights that changes more than 40% is: 43\n"
     ]
    }
   ],
   "source": [
    "# Calculate %increase \n",
    "cnt = 0\n",
    "for w1, w2 in zip(w_coef1, w_coef2):\n",
    "    inc = (abs(w1 - w2)/abs(w1)) * 100  \n",
    "    if inc > 40:\n",
    "        cnt += 1\n",
    "print(\"No of weights that changes more than 40% is:\", cnt)"
   ]
  },
  {
   "cell_type": "markdown",
   "metadata": {},
   "source": [
    "**Observations**\n",
    "1. model is biased towards +ve class. \n",
    "2. features are multicollinear because 43 feature weights changes more than 40%."
   ]
  },
  {
   "cell_type": "markdown",
   "metadata": {},
   "source": [
    "**Conclusions**\n",
    "1. we reduced training error and balance error between both training and testing. Although, cross-validataion do not completly remove underfitting or overfitting.\n",
    "2. bow and tfidf is working well whereas avg word2vec and tfidf w2v is like dumb model."
   ]
  },
  {
   "cell_type": "code",
   "execution_count": 199,
   "metadata": {},
   "outputs": [
    {
     "data": {
      "text/html": [
       "<center><table style=\"border: 1px solid black;color: black;\"><tr style=\"border: 1px solid black;color: black;\"><td style=\"\"></td><td style=\"color: black;font-weight: bold;background-color: lightgray;\">Model</td><td style=\"color: black;font-weight: bold;background-color: lightgray;\">Hyper Parameter(lambda)</td><td style=\"color: black;font-weight: bold;background-color: lightgray;\">Train Error</td><td style=\"color: black;font-weight: bold;background-color: lightgray;\">Test Error</td><td style=\"color: black;font-weight: bold;background-color: lightgray;\">Accuracy</td></tr><tr style=\"border: 1px solid black;color: black;\"><td style=\"color: black;font_weight: bold;background-color: lightgray;\">1</td><td style=\"border: 1px solid black;color: black;\">LogisticRegression with TFIDF</td><td style=\"border: 1px solid black;color: black;\">0.01</td><td style=\"border: 1px solid black;color: black;\">0.012299999999999978</td><td style=\"border: 1px solid black;color: black;\">8.329999999999998</td><td style=\"border: 1px solid black;color: black;\">91.67</td></tr><tr style=\"border: 1px solid black;color: black;\"><td style=\"color: black;font_weight: bold;background-color: lightgray;\">0</td><td style=\"border: 1px solid black;color: black;\">LogisticRegression with Bow</td><td style=\"border: 1px solid black;color: black;\">0.01</td><td style=\"border: 1px solid black;color: black;\">0.02898571428571428</td><td style=\"border: 1px solid black;color: black;\">11.656666666666666</td><td style=\"border: 1px solid black;color: black;\">88.34333333333333</td></tr><tr style=\"border: 1px solid black;color: black;\"><td style=\"color: black;font_weight: bold;background-color: lightgray;\">2</td><td style=\"border: 1px solid black;color: black;\">LogisticRegression with avgw2v</td><td style=\"border: 1px solid black;color: black;\">100.0</td><td style=\"border: 1px solid black;color: black;\">0.2017428571428571</td><td style=\"border: 1px solid black;color: black;\">13.680000000000007</td><td style=\"border: 1px solid black;color: black;\">86.32</td></tr><tr style=\"border: 1px solid black;color: black;\"><td style=\"color: black;font_weight: bold;background-color: lightgray;\">3</td><td style=\"border: 1px solid black;color: black;\">LogisticRegression with TFIDFW2V</td><td style=\"border: 1px solid black;color: black;\">0.01</td><td style=\"border: 1px solid black;color: black;\">0.2683428571428571</td><td style=\"border: 1px solid black;color: black;\">14.429999999999993</td><td style=\"border: 1px solid black;color: black;\">85.57000000000001</td></tr></table></center>"
      ],
      "text/plain": [
       "<itable.itable.PrettyTable at 0x7405775828>"
      ]
     },
     "execution_count": 199,
     "metadata": {},
     "output_type": "execute_result"
    }
   ],
   "source": [
    "# model performence table using grid search\n",
    "import itable\n",
    "models = pd.DataFrame({'Model': ['LogisticRegression with Bow', \"LogisticRegression with TFIDF\", \"LogisticRegression with avgw2v\", \"LogisticRegression with TFIDFW2V\"], 'Hyper Parameter(lambda)': [optimal_lambda_bow_grid, optimal_lambda_tfidf_grid, optimal_lambda_avgw2v_grid, optimal_lambda_tfidfw2v_grid], 'Train Error': [1-train_acc_bow_grid, 1-train_acc_tfidf_grid, 1-train_acc_avgw2v_grid, 1-train_acc_tfidfw2v_grid], 'Test Error': [100-test_acc_bow_grid, 100-test_acc_tfidf_grid, 100-test_acc_avgw2v_grid, 100-test_acc_tfidfw2v_grid], 'Accuracy': [test_acc_bow_grid, test_acc_tfidf_grid, test_acc_avgw2v_grid, test_acc_tfidfw2v_grid]}, columns = [\"Model\", \"Hyper Parameter(lambda)\", \"Train Error\", \"Test Error\", \"Accuracy\"]).sort_values(by='Accuracy', ascending=False)\n",
    "itable.PrettyTable(models, tstyle = itable.TableStyle(theme = \"theme1\"), center = True, header_row = True)"
   ]
  },
  {
   "cell_type": "code",
   "execution_count": 196,
   "metadata": {},
   "outputs": [
    {
     "data": {
      "text/html": [
       "<center><table style=\"border: 1px solid black;color: black;\"><tr style=\"border: 1px solid black;color: black;\"><td style=\"\"></td><td style=\"color: black;font-weight: bold;background-color: lightgray;\">Model</td><td style=\"color: black;font-weight: bold;background-color: lightgray;\">Hyper Parameter(lambda)</td><td style=\"color: black;font-weight: bold;background-color: lightgray;\">Train Error</td><td style=\"color: black;font-weight: bold;background-color: lightgray;\">Test Error</td><td style=\"color: black;font-weight: bold;background-color: lightgray;\">Accuracy</td></tr><tr style=\"border: 1px solid black;color: black;\"><td style=\"color: black;font_weight: bold;background-color: lightgray;\">1</td><td style=\"border: 1px solid black;color: black;\">LogisticRegression with TFIDF</td><td style=\"border: 1px solid black;color: black;\">0.23860360422442373</td><td style=\"border: 1px solid black;color: black;\">1.4285714285744433e-05</td><td style=\"border: 1px solid black;color: black;\">8.840000000000003</td><td style=\"border: 1px solid black;color: black;\">91.16</td></tr><tr style=\"border: 1px solid black;color: black;\"><td style=\"color: black;font_weight: bold;background-color: lightgray;\">0</td><td style=\"border: 1px solid black;color: black;\">LogisticRegression with Bow</td><td style=\"border: 1px solid black;color: black;\">0.8942617375947473</td><td style=\"border: 1px solid black;color: black;\">0.021342857142857108</td><td style=\"border: 1px solid black;color: black;\">13.036666666666662</td><td style=\"border: 1px solid black;color: black;\">86.96333333333334</td></tr><tr style=\"border: 1px solid black;color: black;\"><td style=\"color: black;font_weight: bold;background-color: lightgray;\">2</td><td style=\"border: 1px solid black;color: black;\">LogisticRegression with avgw2v</td><td style=\"border: 1px solid black;color: black;\">3.3331862167206348</td><td style=\"border: 1px solid black;color: black;\">0.20161428571428575</td><td style=\"border: 1px solid black;color: black;\">13.680000000000007</td><td style=\"border: 1px solid black;color: black;\">86.32</td></tr><tr style=\"border: 1px solid black;color: black;\"><td style=\"color: black;font_weight: bold;background-color: lightgray;\">3</td><td style=\"border: 1px solid black;color: black;\">LogisticRegression with TFIDFW2V</td><td style=\"border: 1px solid black;color: black;\">3.1052037226141174</td><td style=\"border: 1px solid black;color: black;\">0.27080000000000004</td><td style=\"border: 1px solid black;color: black;\">13.706666666666663</td><td style=\"border: 1px solid black;color: black;\">86.29333333333334</td></tr></table></center>"
      ],
      "text/plain": [
       "<itable.itable.PrettyTable at 0x7405797400>"
      ]
     },
     "execution_count": 196,
     "metadata": {},
     "output_type": "execute_result"
    }
   ],
   "source": [
    "# model performence table using random search\n",
    "models = pd.DataFrame({'Model': ['LogisticRegression with Bow', \"LogisticRegression with TFIDF\", \"LogisticRegression with avgw2v\", \"LogisticRegression with TFIDFW2V\"], 'Hyper Parameter(lambda)': [optimal_lambda_bow_random, optimal_lambda_tfidf_random, optimal_lambda_avgw2v_random, optimal_lambda_tfidfw2v_random ], 'Train Error': [1-train_acc_bow_random, 1-train_acc_tfidf_random, 1-train_acc_avgw2v_random, 1-train_acc_tfidfw2v_random], 'Test Error': [100-test_acc_bow_random, 100-test_acc_tfidf_random, 100-test_acc_avgw2v_random, 100-test_acc_tfidfw2v_random], 'Accuracy': [test_acc_bow_random, test_acc_tfidf_random, test_acc_avgw2v_random, test_acc_tfidfw2v_random]}, columns = [\"Model\", \"Hyper Parameter(lambda)\", \"Train Error\", \"Test Error\", \"Accuracy\"]).sort_values(by = \"Accuracy\", ascending = False)\n",
    "itable.PrettyTable(models, tstyle = itable.TableStyle(theme = \"theme1\"), center = True, header_row = True)"
   ]
  }
 ],
 "metadata": {
  "kernelspec": {
   "display_name": "Python 3",
   "language": "python",
   "name": "python3"
  },
  "language_info": {
   "codemirror_mode": {
    "name": "ipython",
    "version": 3
   },
   "file_extension": ".py",
   "mimetype": "text/x-python",
   "name": "python",
   "nbconvert_exporter": "python",
   "pygments_lexer": "ipython3",
   "version": "3.6.1"
  },
  "toc": {
   "base_numbering": 1,
   "nav_menu": {},
   "number_sections": true,
   "sideBar": true,
   "skip_h1_title": false,
   "title_cell": "Table of Contents",
   "title_sidebar": "Contents",
   "toc_cell": false,
   "toc_position": {
    "height": "calc(100% - 180px)",
    "left": "10px",
    "top": "150px",
    "width": "165px"
   },
   "toc_section_display": true,
   "toc_window_display": true
  }
 },
 "nbformat": 4,
 "nbformat_minor": 2
}
